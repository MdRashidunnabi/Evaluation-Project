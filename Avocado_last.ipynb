{
 "cells": [
  {
   "cell_type": "markdown",
   "metadata": {},
   "source": [
    "# Importing All necessary Libraries"
   ]
  },
  {
   "cell_type": "code",
   "execution_count": 1,
   "metadata": {},
   "outputs": [],
   "source": [
    "import pandas as pd\n",
    "import numpy as np\n",
    "import matplotlib.pyplot as plt\n",
    "import seaborn as sns\n",
    "%matplotlib inline"
   ]
  },
  {
   "cell_type": "markdown",
   "metadata": {},
   "source": [
    "# Importing Warnings"
   ]
  },
  {
   "cell_type": "code",
   "execution_count": 2,
   "metadata": {},
   "outputs": [],
   "source": [
    "import warnings\n",
    "warnings.filterwarnings('ignore')"
   ]
  },
  {
   "cell_type": "markdown",
   "metadata": {},
   "source": [
    "# Loading the Dataset"
   ]
  },
  {
   "cell_type": "code",
   "execution_count": 3,
   "metadata": {},
   "outputs": [
    {
     "data": {
      "text/html": [
       "<div>\n",
       "<style scoped>\n",
       "    .dataframe tbody tr th:only-of-type {\n",
       "        vertical-align: middle;\n",
       "    }\n",
       "\n",
       "    .dataframe tbody tr th {\n",
       "        vertical-align: top;\n",
       "    }\n",
       "\n",
       "    .dataframe thead th {\n",
       "        text-align: right;\n",
       "    }\n",
       "</style>\n",
       "<table border=\"1\" class=\"dataframe\">\n",
       "  <thead>\n",
       "    <tr style=\"text-align: right;\">\n",
       "      <th></th>\n",
       "      <th>Unnamed: 0</th>\n",
       "      <th>Date</th>\n",
       "      <th>AveragePrice</th>\n",
       "      <th>Total Volume</th>\n",
       "      <th>4046</th>\n",
       "      <th>4225</th>\n",
       "      <th>4770</th>\n",
       "      <th>Total Bags</th>\n",
       "      <th>Small Bags</th>\n",
       "      <th>Large Bags</th>\n",
       "      <th>XLarge Bags</th>\n",
       "      <th>type</th>\n",
       "      <th>year</th>\n",
       "      <th>region</th>\n",
       "    </tr>\n",
       "  </thead>\n",
       "  <tbody>\n",
       "    <tr>\n",
       "      <th>16458</th>\n",
       "      <td>NaN</td>\n",
       "      <td>NaN</td>\n",
       "      <td>NaN</td>\n",
       "      <td>NaN</td>\n",
       "      <td>NaN</td>\n",
       "      <td>NaN</td>\n",
       "      <td>NaN</td>\n",
       "      <td>NaN</td>\n",
       "      <td>NaN</td>\n",
       "      <td>NaN</td>\n",
       "      <td>NaN</td>\n",
       "      <td>NaN</td>\n",
       "      <td>NaN</td>\n",
       "      <td>NaN</td>\n",
       "    </tr>\n",
       "    <tr>\n",
       "      <th>16459</th>\n",
       "      <td>NaN</td>\n",
       "      <td>NaN</td>\n",
       "      <td>NaN</td>\n",
       "      <td>NaN</td>\n",
       "      <td>NaN</td>\n",
       "      <td>NaN</td>\n",
       "      <td>NaN</td>\n",
       "      <td>NaN</td>\n",
       "      <td>NaN</td>\n",
       "      <td>NaN</td>\n",
       "      <td>NaN</td>\n",
       "      <td>NaN</td>\n",
       "      <td>NaN</td>\n",
       "      <td>NaN</td>\n",
       "    </tr>\n",
       "    <tr>\n",
       "      <th>16460</th>\n",
       "      <td>NaN</td>\n",
       "      <td>NaN</td>\n",
       "      <td>NaN</td>\n",
       "      <td>NaN</td>\n",
       "      <td>NaN</td>\n",
       "      <td>NaN</td>\n",
       "      <td>NaN</td>\n",
       "      <td>NaN</td>\n",
       "      <td>NaN</td>\n",
       "      <td>NaN</td>\n",
       "      <td>NaN</td>\n",
       "      <td>NaN</td>\n",
       "      <td>NaN</td>\n",
       "      <td>NaN</td>\n",
       "    </tr>\n",
       "    <tr>\n",
       "      <th>16461</th>\n",
       "      <td>NaN</td>\n",
       "      <td>NaN</td>\n",
       "      <td>NaN</td>\n",
       "      <td>NaN</td>\n",
       "      <td>NaN</td>\n",
       "      <td>NaN</td>\n",
       "      <td>NaN</td>\n",
       "      <td>NaN</td>\n",
       "      <td>NaN</td>\n",
       "      <td>NaN</td>\n",
       "      <td>NaN</td>\n",
       "      <td>NaN</td>\n",
       "      <td>NaN</td>\n",
       "      <td>NaN</td>\n",
       "    </tr>\n",
       "    <tr>\n",
       "      <th>16462</th>\n",
       "      <td>NaN</td>\n",
       "      <td>NaN</td>\n",
       "      <td>NaN</td>\n",
       "      <td>NaN</td>\n",
       "      <td>NaN</td>\n",
       "      <td>NaN</td>\n",
       "      <td>NaN</td>\n",
       "      <td>NaN</td>\n",
       "      <td>NaN</td>\n",
       "      <td>NaN</td>\n",
       "      <td>NaN</td>\n",
       "      <td>NaN</td>\n",
       "      <td>NaN</td>\n",
       "      <td>NaN</td>\n",
       "    </tr>\n",
       "    <tr>\n",
       "      <th>16463</th>\n",
       "      <td>NaN</td>\n",
       "      <td>NaN</td>\n",
       "      <td>NaN</td>\n",
       "      <td>NaN</td>\n",
       "      <td>NaN</td>\n",
       "      <td>NaN</td>\n",
       "      <td>NaN</td>\n",
       "      <td>NaN</td>\n",
       "      <td>NaN</td>\n",
       "      <td>NaN</td>\n",
       "      <td>NaN</td>\n",
       "      <td>NaN</td>\n",
       "      <td>NaN</td>\n",
       "      <td>NaN</td>\n",
       "    </tr>\n",
       "    <tr>\n",
       "      <th>16464</th>\n",
       "      <td>NaN</td>\n",
       "      <td>NaN</td>\n",
       "      <td>NaN</td>\n",
       "      <td>NaN</td>\n",
       "      <td>NaN</td>\n",
       "      <td>NaN</td>\n",
       "      <td>NaN</td>\n",
       "      <td>NaN</td>\n",
       "      <td>NaN</td>\n",
       "      <td>NaN</td>\n",
       "      <td>NaN</td>\n",
       "      <td>NaN</td>\n",
       "      <td>NaN</td>\n",
       "      <td>NaN</td>\n",
       "    </tr>\n",
       "    <tr>\n",
       "      <th>16465</th>\n",
       "      <td>NaN</td>\n",
       "      <td>NaN</td>\n",
       "      <td>NaN</td>\n",
       "      <td>NaN</td>\n",
       "      <td>NaN</td>\n",
       "      <td>NaN</td>\n",
       "      <td>NaN</td>\n",
       "      <td>NaN</td>\n",
       "      <td>NaN</td>\n",
       "      <td>NaN</td>\n",
       "      <td>NaN</td>\n",
       "      <td>NaN</td>\n",
       "      <td>NaN</td>\n",
       "      <td>NaN</td>\n",
       "    </tr>\n",
       "    <tr>\n",
       "      <th>16466</th>\n",
       "      <td>NaN</td>\n",
       "      <td>NaN</td>\n",
       "      <td>NaN</td>\n",
       "      <td>NaN</td>\n",
       "      <td>NaN</td>\n",
       "      <td>NaN</td>\n",
       "      <td>NaN</td>\n",
       "      <td>NaN</td>\n",
       "      <td>NaN</td>\n",
       "      <td>NaN</td>\n",
       "      <td>NaN</td>\n",
       "      <td>NaN</td>\n",
       "      <td>NaN</td>\n",
       "      <td>NaN</td>\n",
       "    </tr>\n",
       "    <tr>\n",
       "      <th>16467</th>\n",
       "      <td>NaN</td>\n",
       "      <td>NaN</td>\n",
       "      <td>NaN</td>\n",
       "      <td>NaN</td>\n",
       "      <td>NaN</td>\n",
       "      <td>NaN</td>\n",
       "      <td>NaN</td>\n",
       "      <td>NaN</td>\n",
       "      <td>NaN</td>\n",
       "      <td>NaN</td>\n",
       "      <td>NaN</td>\n",
       "      <td>NaN</td>\n",
       "      <td>NaN</td>\n",
       "      <td>NaN</td>\n",
       "    </tr>\n",
       "  </tbody>\n",
       "</table>\n",
       "</div>"
      ],
      "text/plain": [
       "       Unnamed: 0 Date  AveragePrice  Total Volume  4046  4225  4770  \\\n",
       "16458         NaN  NaN           NaN           NaN   NaN   NaN   NaN   \n",
       "16459         NaN  NaN           NaN           NaN   NaN   NaN   NaN   \n",
       "16460         NaN  NaN           NaN           NaN   NaN   NaN   NaN   \n",
       "16461         NaN  NaN           NaN           NaN   NaN   NaN   NaN   \n",
       "16462         NaN  NaN           NaN           NaN   NaN   NaN   NaN   \n",
       "16463         NaN  NaN           NaN           NaN   NaN   NaN   NaN   \n",
       "16464         NaN  NaN           NaN           NaN   NaN   NaN   NaN   \n",
       "16465         NaN  NaN           NaN           NaN   NaN   NaN   NaN   \n",
       "16466         NaN  NaN           NaN           NaN   NaN   NaN   NaN   \n",
       "16467         NaN  NaN           NaN           NaN   NaN   NaN   NaN   \n",
       "\n",
       "       Total Bags  Small Bags  Large Bags  XLarge Bags type  year region  \n",
       "16458         NaN         NaN         NaN          NaN  NaN   NaN    NaN  \n",
       "16459         NaN         NaN         NaN          NaN  NaN   NaN    NaN  \n",
       "16460         NaN         NaN         NaN          NaN  NaN   NaN    NaN  \n",
       "16461         NaN         NaN         NaN          NaN  NaN   NaN    NaN  \n",
       "16462         NaN         NaN         NaN          NaN  NaN   NaN    NaN  \n",
       "16463         NaN         NaN         NaN          NaN  NaN   NaN    NaN  \n",
       "16464         NaN         NaN         NaN          NaN  NaN   NaN    NaN  \n",
       "16465         NaN         NaN         NaN          NaN  NaN   NaN    NaN  \n",
       "16466         NaN         NaN         NaN          NaN  NaN   NaN    NaN  \n",
       "16467         NaN         NaN         NaN          NaN  NaN   NaN    NaN  "
      ]
     },
     "execution_count": 3,
     "metadata": {},
     "output_type": "execute_result"
    }
   ],
   "source": [
    "df=pd.read_csv(\"avocado.csv\")\n",
    "df.tail(10)"
   ]
  },
  {
   "cell_type": "code",
   "execution_count": 4,
   "metadata": {},
   "outputs": [
    {
     "data": {
      "text/html": [
       "<div>\n",
       "<style scoped>\n",
       "    .dataframe tbody tr th:only-of-type {\n",
       "        vertical-align: middle;\n",
       "    }\n",
       "\n",
       "    .dataframe tbody tr th {\n",
       "        vertical-align: top;\n",
       "    }\n",
       "\n",
       "    .dataframe thead th {\n",
       "        text-align: right;\n",
       "    }\n",
       "</style>\n",
       "<table border=\"1\" class=\"dataframe\">\n",
       "  <thead>\n",
       "    <tr style=\"text-align: right;\">\n",
       "      <th></th>\n",
       "      <th>Unnamed: 0</th>\n",
       "      <th>Date</th>\n",
       "      <th>AveragePrice</th>\n",
       "      <th>Total Volume</th>\n",
       "      <th>4046</th>\n",
       "      <th>4225</th>\n",
       "      <th>4770</th>\n",
       "      <th>Total Bags</th>\n",
       "      <th>Small Bags</th>\n",
       "      <th>Large Bags</th>\n",
       "      <th>XLarge Bags</th>\n",
       "      <th>type</th>\n",
       "      <th>year</th>\n",
       "      <th>region</th>\n",
       "    </tr>\n",
       "  </thead>\n",
       "  <tbody>\n",
       "    <tr>\n",
       "      <th>0</th>\n",
       "      <td>0.0</td>\n",
       "      <td>27-12-2015</td>\n",
       "      <td>1.33</td>\n",
       "      <td>64236.62</td>\n",
       "      <td>1036.74</td>\n",
       "      <td>54454.85</td>\n",
       "      <td>48.16</td>\n",
       "      <td>8696.87</td>\n",
       "      <td>8603.62</td>\n",
       "      <td>93.25</td>\n",
       "      <td>0.0</td>\n",
       "      <td>conventional</td>\n",
       "      <td>2015.0</td>\n",
       "      <td>Albany</td>\n",
       "    </tr>\n",
       "    <tr>\n",
       "      <th>1</th>\n",
       "      <td>1.0</td>\n",
       "      <td>20-12-2015</td>\n",
       "      <td>1.35</td>\n",
       "      <td>54876.98</td>\n",
       "      <td>674.28</td>\n",
       "      <td>44638.81</td>\n",
       "      <td>58.33</td>\n",
       "      <td>9505.56</td>\n",
       "      <td>9408.07</td>\n",
       "      <td>97.49</td>\n",
       "      <td>0.0</td>\n",
       "      <td>conventional</td>\n",
       "      <td>2015.0</td>\n",
       "      <td>Albany</td>\n",
       "    </tr>\n",
       "    <tr>\n",
       "      <th>2</th>\n",
       "      <td>2.0</td>\n",
       "      <td>13-12-2015</td>\n",
       "      <td>0.93</td>\n",
       "      <td>118220.22</td>\n",
       "      <td>794.70</td>\n",
       "      <td>109149.67</td>\n",
       "      <td>130.50</td>\n",
       "      <td>8145.35</td>\n",
       "      <td>8042.21</td>\n",
       "      <td>103.14</td>\n",
       "      <td>0.0</td>\n",
       "      <td>conventional</td>\n",
       "      <td>2015.0</td>\n",
       "      <td>Albany</td>\n",
       "    </tr>\n",
       "    <tr>\n",
       "      <th>3</th>\n",
       "      <td>3.0</td>\n",
       "      <td>06-12-2015</td>\n",
       "      <td>1.08</td>\n",
       "      <td>78992.15</td>\n",
       "      <td>1132.00</td>\n",
       "      <td>71976.41</td>\n",
       "      <td>72.58</td>\n",
       "      <td>5811.16</td>\n",
       "      <td>5677.40</td>\n",
       "      <td>133.76</td>\n",
       "      <td>0.0</td>\n",
       "      <td>conventional</td>\n",
       "      <td>2015.0</td>\n",
       "      <td>Albany</td>\n",
       "    </tr>\n",
       "    <tr>\n",
       "      <th>4</th>\n",
       "      <td>4.0</td>\n",
       "      <td>29-11-2015</td>\n",
       "      <td>1.28</td>\n",
       "      <td>51039.60</td>\n",
       "      <td>941.48</td>\n",
       "      <td>43838.39</td>\n",
       "      <td>75.78</td>\n",
       "      <td>6183.95</td>\n",
       "      <td>5986.26</td>\n",
       "      <td>197.69</td>\n",
       "      <td>0.0</td>\n",
       "      <td>conventional</td>\n",
       "      <td>2015.0</td>\n",
       "      <td>Albany</td>\n",
       "    </tr>\n",
       "    <tr>\n",
       "      <th>5</th>\n",
       "      <td>5.0</td>\n",
       "      <td>22-11-2015</td>\n",
       "      <td>1.26</td>\n",
       "      <td>55979.78</td>\n",
       "      <td>1184.27</td>\n",
       "      <td>48067.99</td>\n",
       "      <td>43.61</td>\n",
       "      <td>6683.91</td>\n",
       "      <td>6556.47</td>\n",
       "      <td>127.44</td>\n",
       "      <td>0.0</td>\n",
       "      <td>conventional</td>\n",
       "      <td>2015.0</td>\n",
       "      <td>Albany</td>\n",
       "    </tr>\n",
       "    <tr>\n",
       "      <th>6</th>\n",
       "      <td>6.0</td>\n",
       "      <td>15-11-2015</td>\n",
       "      <td>0.99</td>\n",
       "      <td>83453.76</td>\n",
       "      <td>1368.92</td>\n",
       "      <td>73672.72</td>\n",
       "      <td>93.26</td>\n",
       "      <td>8318.86</td>\n",
       "      <td>8196.81</td>\n",
       "      <td>122.05</td>\n",
       "      <td>0.0</td>\n",
       "      <td>conventional</td>\n",
       "      <td>2015.0</td>\n",
       "      <td>Albany</td>\n",
       "    </tr>\n",
       "    <tr>\n",
       "      <th>7</th>\n",
       "      <td>7.0</td>\n",
       "      <td>08-11-2015</td>\n",
       "      <td>0.98</td>\n",
       "      <td>109428.33</td>\n",
       "      <td>703.75</td>\n",
       "      <td>101815.36</td>\n",
       "      <td>80.00</td>\n",
       "      <td>6829.22</td>\n",
       "      <td>6266.85</td>\n",
       "      <td>562.37</td>\n",
       "      <td>0.0</td>\n",
       "      <td>conventional</td>\n",
       "      <td>2015.0</td>\n",
       "      <td>Albany</td>\n",
       "    </tr>\n",
       "    <tr>\n",
       "      <th>8</th>\n",
       "      <td>8.0</td>\n",
       "      <td>01-11-2015</td>\n",
       "      <td>1.02</td>\n",
       "      <td>99811.42</td>\n",
       "      <td>1022.15</td>\n",
       "      <td>87315.57</td>\n",
       "      <td>85.34</td>\n",
       "      <td>11388.36</td>\n",
       "      <td>11104.53</td>\n",
       "      <td>283.83</td>\n",
       "      <td>0.0</td>\n",
       "      <td>conventional</td>\n",
       "      <td>2015.0</td>\n",
       "      <td>Albany</td>\n",
       "    </tr>\n",
       "    <tr>\n",
       "      <th>9</th>\n",
       "      <td>9.0</td>\n",
       "      <td>25-10-2015</td>\n",
       "      <td>1.07</td>\n",
       "      <td>74338.76</td>\n",
       "      <td>842.40</td>\n",
       "      <td>64757.44</td>\n",
       "      <td>113.00</td>\n",
       "      <td>8625.92</td>\n",
       "      <td>8061.47</td>\n",
       "      <td>564.45</td>\n",
       "      <td>0.0</td>\n",
       "      <td>conventional</td>\n",
       "      <td>2015.0</td>\n",
       "      <td>Albany</td>\n",
       "    </tr>\n",
       "  </tbody>\n",
       "</table>\n",
       "</div>"
      ],
      "text/plain": [
       "   Unnamed: 0        Date  AveragePrice  Total Volume     4046       4225  \\\n",
       "0         0.0  27-12-2015          1.33      64236.62  1036.74   54454.85   \n",
       "1         1.0  20-12-2015          1.35      54876.98   674.28   44638.81   \n",
       "2         2.0  13-12-2015          0.93     118220.22   794.70  109149.67   \n",
       "3         3.0  06-12-2015          1.08      78992.15  1132.00   71976.41   \n",
       "4         4.0  29-11-2015          1.28      51039.60   941.48   43838.39   \n",
       "5         5.0  22-11-2015          1.26      55979.78  1184.27   48067.99   \n",
       "6         6.0  15-11-2015          0.99      83453.76  1368.92   73672.72   \n",
       "7         7.0  08-11-2015          0.98     109428.33   703.75  101815.36   \n",
       "8         8.0  01-11-2015          1.02      99811.42  1022.15   87315.57   \n",
       "9         9.0  25-10-2015          1.07      74338.76   842.40   64757.44   \n",
       "\n",
       "     4770  Total Bags  Small Bags  Large Bags  XLarge Bags          type  \\\n",
       "0   48.16     8696.87     8603.62       93.25          0.0  conventional   \n",
       "1   58.33     9505.56     9408.07       97.49          0.0  conventional   \n",
       "2  130.50     8145.35     8042.21      103.14          0.0  conventional   \n",
       "3   72.58     5811.16     5677.40      133.76          0.0  conventional   \n",
       "4   75.78     6183.95     5986.26      197.69          0.0  conventional   \n",
       "5   43.61     6683.91     6556.47      127.44          0.0  conventional   \n",
       "6   93.26     8318.86     8196.81      122.05          0.0  conventional   \n",
       "7   80.00     6829.22     6266.85      562.37          0.0  conventional   \n",
       "8   85.34    11388.36    11104.53      283.83          0.0  conventional   \n",
       "9  113.00     8625.92     8061.47      564.45          0.0  conventional   \n",
       "\n",
       "     year  region  \n",
       "0  2015.0  Albany  \n",
       "1  2015.0  Albany  \n",
       "2  2015.0  Albany  \n",
       "3  2015.0  Albany  \n",
       "4  2015.0  Albany  \n",
       "5  2015.0  Albany  \n",
       "6  2015.0  Albany  \n",
       "7  2015.0  Albany  \n",
       "8  2015.0  Albany  \n",
       "9  2015.0  Albany  "
      ]
     },
     "execution_count": 4,
     "metadata": {},
     "output_type": "execute_result"
    }
   ],
   "source": [
    "df.head(10)"
   ]
  },
  {
   "cell_type": "markdown",
   "metadata": {},
   "source": [
    "# Shape"
   ]
  },
  {
   "cell_type": "code",
   "execution_count": 5,
   "metadata": {},
   "outputs": [
    {
     "data": {
      "text/plain": [
       "(16468, 14)"
      ]
     },
     "execution_count": 5,
     "metadata": {},
     "output_type": "execute_result"
    }
   ],
   "source": [
    "df.shape"
   ]
  },
  {
   "cell_type": "markdown",
   "metadata": {},
   "source": [
    "# columns"
   ]
  },
  {
   "cell_type": "code",
   "execution_count": 6,
   "metadata": {},
   "outputs": [
    {
     "data": {
      "text/plain": [
       "Index(['Unnamed: 0', 'Date', 'AveragePrice', 'Total Volume', '4046', '4225',\n",
       "       '4770', 'Total Bags', 'Small Bags', 'Large Bags', 'XLarge Bags', 'type',\n",
       "       'year', 'region'],\n",
       "      dtype='object')"
      ]
     },
     "execution_count": 6,
     "metadata": {},
     "output_type": "execute_result"
    }
   ],
   "source": [
    "df.columns"
   ]
  },
  {
   "cell_type": "markdown",
   "metadata": {},
   "source": [
    "# Checking the missing values"
   ]
  },
  {
   "cell_type": "code",
   "execution_count": 7,
   "metadata": {},
   "outputs": [
    {
     "data": {
      "text/plain": [
       "True"
      ]
     },
     "execution_count": 7,
     "metadata": {},
     "output_type": "execute_result"
    }
   ],
   "source": [
    "df.isnull().values.any()"
   ]
  },
  {
   "cell_type": "markdown",
   "metadata": {},
   "source": [
    "# Missing values by column"
   ]
  },
  {
   "cell_type": "code",
   "execution_count": 8,
   "metadata": {
    "scrolled": true
   },
   "outputs": [
    {
     "data": {
      "text/plain": [
       "Unnamed: 0      14951\n",
       "Date            14951\n",
       "AveragePrice    14951\n",
       "Total Volume    14951\n",
       "4046            14951\n",
       "4225            14951\n",
       "4770            14951\n",
       "Total Bags      14951\n",
       "Small Bags      14951\n",
       "Large Bags      14951\n",
       "XLarge Bags     14951\n",
       "type            14951\n",
       "year            14951\n",
       "region          14951\n",
       "dtype: int64"
      ]
     },
     "execution_count": 8,
     "metadata": {},
     "output_type": "execute_result"
    }
   ],
   "source": [
    "df.isnull().sum()"
   ]
  },
  {
   "cell_type": "markdown",
   "metadata": {},
   "source": [
    "# Missing values via visualization"
   ]
  },
  {
   "cell_type": "code",
   "execution_count": 9,
   "metadata": {},
   "outputs": [
    {
     "data": {
      "text/plain": [
       "<AxesSubplot:>"
      ]
     },
     "execution_count": 9,
     "metadata": {},
     "output_type": "execute_result"
    },
    {
     "data": {
      "image/png": "[encoded data removed]",
      "text/plain": [
       "<Figure size 1296x432 with 1 Axes>"
      ]
     },
     "metadata": {
      "needs_background": "light"
     },
     "output_type": "display_data"
    }
   ],
   "source": [
    "plt.figure(figsize=(18,6))\n",
    "sns.heatmap(df.isnull(),yticklabels=False,cbar=False,cmap='tab20_r')"
   ]
  },
  {
   "cell_type": "markdown",
   "metadata": {},
   "source": [
    "# Informations"
   ]
  },
  {
   "cell_type": "code",
   "execution_count": 10,
   "metadata": {},
   "outputs": [
    {
     "name": "stdout",
     "output_type": "stream",
     "text": [
      "<class 'pandas.core.frame.DataFrame'>\n",
      "RangeIndex: 16468 entries, 0 to 16467\n",
      "Data columns (total 14 columns):\n",
      " #   Column        Non-Null Count  Dtype  \n",
      "---  ------        --------------  -----  \n",
      " 0   Unnamed: 0    1517 non-null   float64\n",
      " 1   Date          1517 non-null   object \n",
      " 2   AveragePrice  1517 non-null   float64\n",
      " 3   Total Volume  1517 non-null   float64\n",
      " 4   4046          1517 non-null   float64\n",
      " 5   4225          1517 non-null   float64\n",
      " 6   4770          1517 non-null   float64\n",
      " 7   Total Bags    1517 non-null   float64\n",
      " 8   Small Bags    1517 non-null   float64\n",
      " 9   Large Bags    1517 non-null   float64\n",
      " 10  XLarge Bags   1517 non-null   float64\n",
      " 11  type          1517 non-null   object \n",
      " 12  year          1517 non-null   float64\n",
      " 13  region        1517 non-null   object \n",
      "dtypes: float64(11), object(3)\n",
      "memory usage: 1.8+ MB\n"
     ]
    }
   ],
   "source": [
    "df.info()"
   ]
  },
  {
   "cell_type": "markdown",
   "metadata": {},
   "source": [
    "# Imputing Missing values"
   ]
  },
  {
   "cell_type": "code",
   "execution_count": 11,
   "metadata": {},
   "outputs": [],
   "source": [
    "df.dropna(axis=0, how='all', thresh=None, subset=None, inplace=True)"
   ]
  },
  {
   "cell_type": "code",
   "execution_count": 12,
   "metadata": {},
   "outputs": [
    {
     "data": {
      "text/html": [
       "<div>\n",
       "<style scoped>\n",
       "    .dataframe tbody tr th:only-of-type {\n",
       "        vertical-align: middle;\n",
       "    }\n",
       "\n",
       "    .dataframe tbody tr th {\n",
       "        vertical-align: top;\n",
       "    }\n",
       "\n",
       "    .dataframe thead th {\n",
       "        text-align: right;\n",
       "    }\n",
       "</style>\n",
       "<table border=\"1\" class=\"dataframe\">\n",
       "  <thead>\n",
       "    <tr style=\"text-align: right;\">\n",
       "      <th></th>\n",
       "      <th>Unnamed: 0</th>\n",
       "      <th>Date</th>\n",
       "      <th>AveragePrice</th>\n",
       "      <th>Total Volume</th>\n",
       "      <th>4046</th>\n",
       "      <th>4225</th>\n",
       "      <th>4770</th>\n",
       "      <th>Total Bags</th>\n",
       "      <th>Small Bags</th>\n",
       "      <th>Large Bags</th>\n",
       "      <th>XLarge Bags</th>\n",
       "      <th>type</th>\n",
       "      <th>year</th>\n",
       "      <th>region</th>\n",
       "    </tr>\n",
       "  </thead>\n",
       "  <tbody>\n",
       "    <tr>\n",
       "      <th>1507</th>\n",
       "      <td>5.0</td>\n",
       "      <td>20-11-2016</td>\n",
       "      <td>1.57</td>\n",
       "      <td>135608.11</td>\n",
       "      <td>44044.69</td>\n",
       "      <td>28907.47</td>\n",
       "      <td>13913.04</td>\n",
       "      <td>48742.91</td>\n",
       "      <td>42721.62</td>\n",
       "      <td>6021.29</td>\n",
       "      <td>0.00</td>\n",
       "      <td>conventional</td>\n",
       "      <td>2016.0</td>\n",
       "      <td>Charlotte</td>\n",
       "    </tr>\n",
       "    <tr>\n",
       "      <th>1508</th>\n",
       "      <td>6.0</td>\n",
       "      <td>13-11-2016</td>\n",
       "      <td>1.64</td>\n",
       "      <td>144089.12</td>\n",
       "      <td>49399.39</td>\n",
       "      <td>26597.39</td>\n",
       "      <td>22714.68</td>\n",
       "      <td>45377.66</td>\n",
       "      <td>38436.79</td>\n",
       "      <td>6940.87</td>\n",
       "      <td>0.00</td>\n",
       "      <td>conventional</td>\n",
       "      <td>2016.0</td>\n",
       "      <td>Charlotte</td>\n",
       "    </tr>\n",
       "    <tr>\n",
       "      <th>1509</th>\n",
       "      <td>7.0</td>\n",
       "      <td>06-11-2016</td>\n",
       "      <td>1.57</td>\n",
       "      <td>142095.92</td>\n",
       "      <td>36840.74</td>\n",
       "      <td>27501.34</td>\n",
       "      <td>25305.86</td>\n",
       "      <td>52447.98</td>\n",
       "      <td>45861.67</td>\n",
       "      <td>6586.31</td>\n",
       "      <td>0.00</td>\n",
       "      <td>conventional</td>\n",
       "      <td>2016.0</td>\n",
       "      <td>Charlotte</td>\n",
       "    </tr>\n",
       "    <tr>\n",
       "      <th>1510</th>\n",
       "      <td>8.0</td>\n",
       "      <td>30-10-2016</td>\n",
       "      <td>1.58</td>\n",
       "      <td>142955.49</td>\n",
       "      <td>39376.44</td>\n",
       "      <td>29382.30</td>\n",
       "      <td>26881.22</td>\n",
       "      <td>47315.53</td>\n",
       "      <td>40258.68</td>\n",
       "      <td>6816.57</td>\n",
       "      <td>240.28</td>\n",
       "      <td>conventional</td>\n",
       "      <td>2016.0</td>\n",
       "      <td>Charlotte</td>\n",
       "    </tr>\n",
       "    <tr>\n",
       "      <th>1511</th>\n",
       "      <td>9.0</td>\n",
       "      <td>23-10-2016</td>\n",
       "      <td>1.52</td>\n",
       "      <td>167741.27</td>\n",
       "      <td>54981.90</td>\n",
       "      <td>39749.81</td>\n",
       "      <td>20290.31</td>\n",
       "      <td>52719.25</td>\n",
       "      <td>47060.46</td>\n",
       "      <td>5658.79</td>\n",
       "      <td>0.00</td>\n",
       "      <td>conventional</td>\n",
       "      <td>2016.0</td>\n",
       "      <td>Charlotte</td>\n",
       "    </tr>\n",
       "    <tr>\n",
       "      <th>1512</th>\n",
       "      <td>10.0</td>\n",
       "      <td>16-10-2016</td>\n",
       "      <td>1.39</td>\n",
       "      <td>190846.01</td>\n",
       "      <td>57529.11</td>\n",
       "      <td>56366.66</td>\n",
       "      <td>17531.78</td>\n",
       "      <td>59418.46</td>\n",
       "      <td>48823.53</td>\n",
       "      <td>10354.65</td>\n",
       "      <td>240.28</td>\n",
       "      <td>conventional</td>\n",
       "      <td>2016.0</td>\n",
       "      <td>Charlotte</td>\n",
       "    </tr>\n",
       "    <tr>\n",
       "      <th>1513</th>\n",
       "      <td>11.0</td>\n",
       "      <td>09-10-2016</td>\n",
       "      <td>1.51</td>\n",
       "      <td>178235.75</td>\n",
       "      <td>43325.87</td>\n",
       "      <td>52189.61</td>\n",
       "      <td>19419.57</td>\n",
       "      <td>63300.70</td>\n",
       "      <td>54704.14</td>\n",
       "      <td>8596.56</td>\n",
       "      <td>0.00</td>\n",
       "      <td>conventional</td>\n",
       "      <td>2016.0</td>\n",
       "      <td>Charlotte</td>\n",
       "    </tr>\n",
       "    <tr>\n",
       "      <th>1514</th>\n",
       "      <td>12.0</td>\n",
       "      <td>02-10-2016</td>\n",
       "      <td>1.48</td>\n",
       "      <td>178410.82</td>\n",
       "      <td>46364.75</td>\n",
       "      <td>52893.38</td>\n",
       "      <td>16736.92</td>\n",
       "      <td>62415.77</td>\n",
       "      <td>53332.61</td>\n",
       "      <td>8258.16</td>\n",
       "      <td>825.00</td>\n",
       "      <td>conventional</td>\n",
       "      <td>2016.0</td>\n",
       "      <td>Charlotte</td>\n",
       "    </tr>\n",
       "    <tr>\n",
       "      <th>1515</th>\n",
       "      <td>13.0</td>\n",
       "      <td>25-09-2016</td>\n",
       "      <td>1.47</td>\n",
       "      <td>189131.52</td>\n",
       "      <td>54110.79</td>\n",
       "      <td>53593.58</td>\n",
       "      <td>17495.42</td>\n",
       "      <td>63931.73</td>\n",
       "      <td>55653.47</td>\n",
       "      <td>8278.26</td>\n",
       "      <td>0.00</td>\n",
       "      <td>conventional</td>\n",
       "      <td>2016.0</td>\n",
       "      <td>Charlotte</td>\n",
       "    </tr>\n",
       "    <tr>\n",
       "      <th>1516</th>\n",
       "      <td>14.0</td>\n",
       "      <td>18-09-2016</td>\n",
       "      <td>1.43</td>\n",
       "      <td>182978.30</td>\n",
       "      <td>43116.41</td>\n",
       "      <td>54193.42</td>\n",
       "      <td>16563.91</td>\n",
       "      <td>69104.56</td>\n",
       "      <td>57456.21</td>\n",
       "      <td>11648.35</td>\n",
       "      <td>0.00</td>\n",
       "      <td>conventional</td>\n",
       "      <td>2016.0</td>\n",
       "      <td>Charlotte</td>\n",
       "    </tr>\n",
       "  </tbody>\n",
       "</table>\n",
       "</div>"
      ],
      "text/plain": [
       "      Unnamed: 0        Date  AveragePrice  Total Volume      4046      4225  \\\n",
       "1507         5.0  20-11-2016          1.57     135608.11  44044.69  28907.47   \n",
       "1508         6.0  13-11-2016          1.64     144089.12  49399.39  26597.39   \n",
       "1509         7.0  06-11-2016          1.57     142095.92  36840.74  27501.34   \n",
       "1510         8.0  30-10-2016          1.58     142955.49  39376.44  29382.30   \n",
       "1511         9.0  23-10-2016          1.52     167741.27  54981.90  39749.81   \n",
       "1512        10.0  16-10-2016          1.39     190846.01  57529.11  56366.66   \n",
       "1513        11.0  09-10-2016          1.51     178235.75  43325.87  52189.61   \n",
       "1514        12.0  02-10-2016          1.48     178410.82  46364.75  52893.38   \n",
       "1515        13.0  25-09-2016          1.47     189131.52  54110.79  53593.58   \n",
       "1516        14.0  18-09-2016          1.43     182978.30  43116.41  54193.42   \n",
       "\n",
       "          4770  Total Bags  Small Bags  Large Bags  XLarge Bags          type  \\\n",
       "1507  13913.04    48742.91    42721.62     6021.29         0.00  conventional   \n",
       "1508  22714.68    45377.66    38436.79     6940.87         0.00  conventional   \n",
       "1509  25305.86    52447.98    45861.67     6586.31         0.00  conventional   \n",
       "1510  26881.22    47315.53    40258.68     6816.57       240.28  conventional   \n",
       "1511  20290.31    52719.25    47060.46     5658.79         0.00  conventional   \n",
       "1512  17531.78    59418.46    48823.53    10354.65       240.28  conventional   \n",
       "1513  19419.57    63300.70    54704.14     8596.56         0.00  conventional   \n",
       "1514  16736.92    62415.77    53332.61     8258.16       825.00  conventional   \n",
       "1515  17495.42    63931.73    55653.47     8278.26         0.00  conventional   \n",
       "1516  16563.91    69104.56    57456.21    11648.35         0.00  conventional   \n",
       "\n",
       "        year     region  \n",
       "1507  2016.0  Charlotte  \n",
       "1508  2016.0  Charlotte  \n",
       "1509  2016.0  Charlotte  \n",
       "1510  2016.0  Charlotte  \n",
       "1511  2016.0  Charlotte  \n",
       "1512  2016.0  Charlotte  \n",
       "1513  2016.0  Charlotte  \n",
       "1514  2016.0  Charlotte  \n",
       "1515  2016.0  Charlotte  \n",
       "1516  2016.0  Charlotte  "
      ]
     },
     "execution_count": 12,
     "metadata": {},
     "output_type": "execute_result"
    }
   ],
   "source": [
    "df.tail(10)"
   ]
  },
  {
   "cell_type": "markdown",
   "metadata": {},
   "source": [
    "# Rename Unnamed column"
   ]
  },
  {
   "cell_type": "code",
   "execution_count": 13,
   "metadata": {},
   "outputs": [],
   "source": [
    "df.rename(columns={'Unnamed: 0':'ID'},inplace=True)"
   ]
  },
  {
   "cell_type": "code",
   "execution_count": 14,
   "metadata": {},
   "outputs": [
    {
     "data": {
      "text/html": [
       "<div>\n",
       "<style scoped>\n",
       "    .dataframe tbody tr th:only-of-type {\n",
       "        vertical-align: middle;\n",
       "    }\n",
       "\n",
       "    .dataframe tbody tr th {\n",
       "        vertical-align: top;\n",
       "    }\n",
       "\n",
       "    .dataframe thead th {\n",
       "        text-align: right;\n",
       "    }\n",
       "</style>\n",
       "<table border=\"1\" class=\"dataframe\">\n",
       "  <thead>\n",
       "    <tr style=\"text-align: right;\">\n",
       "      <th></th>\n",
       "      <th>ID</th>\n",
       "      <th>Date</th>\n",
       "      <th>AveragePrice</th>\n",
       "      <th>Total Volume</th>\n",
       "      <th>4046</th>\n",
       "      <th>4225</th>\n",
       "      <th>4770</th>\n",
       "      <th>Total Bags</th>\n",
       "      <th>Small Bags</th>\n",
       "      <th>Large Bags</th>\n",
       "      <th>XLarge Bags</th>\n",
       "      <th>type</th>\n",
       "      <th>year</th>\n",
       "      <th>region</th>\n",
       "    </tr>\n",
       "  </thead>\n",
       "  <tbody>\n",
       "    <tr>\n",
       "      <th>0</th>\n",
       "      <td>0.0</td>\n",
       "      <td>27-12-2015</td>\n",
       "      <td>1.33</td>\n",
       "      <td>64236.62</td>\n",
       "      <td>1036.74</td>\n",
       "      <td>54454.85</td>\n",
       "      <td>48.16</td>\n",
       "      <td>8696.87</td>\n",
       "      <td>8603.62</td>\n",
       "      <td>93.25</td>\n",
       "      <td>0.0</td>\n",
       "      <td>conventional</td>\n",
       "      <td>2015.0</td>\n",
       "      <td>Albany</td>\n",
       "    </tr>\n",
       "    <tr>\n",
       "      <th>1</th>\n",
       "      <td>1.0</td>\n",
       "      <td>20-12-2015</td>\n",
       "      <td>1.35</td>\n",
       "      <td>54876.98</td>\n",
       "      <td>674.28</td>\n",
       "      <td>44638.81</td>\n",
       "      <td>58.33</td>\n",
       "      <td>9505.56</td>\n",
       "      <td>9408.07</td>\n",
       "      <td>97.49</td>\n",
       "      <td>0.0</td>\n",
       "      <td>conventional</td>\n",
       "      <td>2015.0</td>\n",
       "      <td>Albany</td>\n",
       "    </tr>\n",
       "    <tr>\n",
       "      <th>2</th>\n",
       "      <td>2.0</td>\n",
       "      <td>13-12-2015</td>\n",
       "      <td>0.93</td>\n",
       "      <td>118220.22</td>\n",
       "      <td>794.70</td>\n",
       "      <td>109149.67</td>\n",
       "      <td>130.50</td>\n",
       "      <td>8145.35</td>\n",
       "      <td>8042.21</td>\n",
       "      <td>103.14</td>\n",
       "      <td>0.0</td>\n",
       "      <td>conventional</td>\n",
       "      <td>2015.0</td>\n",
       "      <td>Albany</td>\n",
       "    </tr>\n",
       "    <tr>\n",
       "      <th>3</th>\n",
       "      <td>3.0</td>\n",
       "      <td>06-12-2015</td>\n",
       "      <td>1.08</td>\n",
       "      <td>78992.15</td>\n",
       "      <td>1132.00</td>\n",
       "      <td>71976.41</td>\n",
       "      <td>72.58</td>\n",
       "      <td>5811.16</td>\n",
       "      <td>5677.40</td>\n",
       "      <td>133.76</td>\n",
       "      <td>0.0</td>\n",
       "      <td>conventional</td>\n",
       "      <td>2015.0</td>\n",
       "      <td>Albany</td>\n",
       "    </tr>\n",
       "    <tr>\n",
       "      <th>4</th>\n",
       "      <td>4.0</td>\n",
       "      <td>29-11-2015</td>\n",
       "      <td>1.28</td>\n",
       "      <td>51039.60</td>\n",
       "      <td>941.48</td>\n",
       "      <td>43838.39</td>\n",
       "      <td>75.78</td>\n",
       "      <td>6183.95</td>\n",
       "      <td>5986.26</td>\n",
       "      <td>197.69</td>\n",
       "      <td>0.0</td>\n",
       "      <td>conventional</td>\n",
       "      <td>2015.0</td>\n",
       "      <td>Albany</td>\n",
       "    </tr>\n",
       "  </tbody>\n",
       "</table>\n",
       "</div>"
      ],
      "text/plain": [
       "    ID        Date  AveragePrice  Total Volume     4046       4225    4770  \\\n",
       "0  0.0  27-12-2015          1.33      64236.62  1036.74   54454.85   48.16   \n",
       "1  1.0  20-12-2015          1.35      54876.98   674.28   44638.81   58.33   \n",
       "2  2.0  13-12-2015          0.93     118220.22   794.70  109149.67  130.50   \n",
       "3  3.0  06-12-2015          1.08      78992.15  1132.00   71976.41   72.58   \n",
       "4  4.0  29-11-2015          1.28      51039.60   941.48   43838.39   75.78   \n",
       "\n",
       "   Total Bags  Small Bags  Large Bags  XLarge Bags          type    year  \\\n",
       "0     8696.87     8603.62       93.25          0.0  conventional  2015.0   \n",
       "1     9505.56     9408.07       97.49          0.0  conventional  2015.0   \n",
       "2     8145.35     8042.21      103.14          0.0  conventional  2015.0   \n",
       "3     5811.16     5677.40      133.76          0.0  conventional  2015.0   \n",
       "4     6183.95     5986.26      197.69          0.0  conventional  2015.0   \n",
       "\n",
       "   region  \n",
       "0  Albany  \n",
       "1  Albany  \n",
       "2  Albany  \n",
       "3  Albany  \n",
       "4  Albany  "
      ]
     },
     "execution_count": 14,
     "metadata": {},
     "output_type": "execute_result"
    }
   ],
   "source": [
    "df.head()"
   ]
  },
  {
   "cell_type": "markdown",
   "metadata": {},
   "source": [
    "# Informations Again"
   ]
  },
  {
   "cell_type": "code",
   "execution_count": 15,
   "metadata": {},
   "outputs": [
    {
     "name": "stdout",
     "output_type": "stream",
     "text": [
      "<class 'pandas.core.frame.DataFrame'>\n",
      "Int64Index: 1517 entries, 0 to 1516\n",
      "Data columns (total 14 columns):\n",
      " #   Column        Non-Null Count  Dtype  \n",
      "---  ------        --------------  -----  \n",
      " 0   ID            1517 non-null   float64\n",
      " 1   Date          1517 non-null   object \n",
      " 2   AveragePrice  1517 non-null   float64\n",
      " 3   Total Volume  1517 non-null   float64\n",
      " 4   4046          1517 non-null   float64\n",
      " 5   4225          1517 non-null   float64\n",
      " 6   4770          1517 non-null   float64\n",
      " 7   Total Bags    1517 non-null   float64\n",
      " 8   Small Bags    1517 non-null   float64\n",
      " 9   Large Bags    1517 non-null   float64\n",
      " 10  XLarge Bags   1517 non-null   float64\n",
      " 11  type          1517 non-null   object \n",
      " 12  year          1517 non-null   float64\n",
      " 13  region        1517 non-null   object \n",
      "dtypes: float64(11), object(3)\n",
      "memory usage: 177.8+ KB\n"
     ]
    }
   ],
   "source": [
    "df.info()"
   ]
  },
  {
   "cell_type": "markdown",
   "metadata": {},
   "source": [
    "# Xplit the year,month and day in different columns"
   ]
  },
  {
   "cell_type": "code",
   "execution_count": 16,
   "metadata": {},
   "outputs": [],
   "source": [
    "df['Date']=pd.to_datetime(df['Date'])\n",
    "df['Date']\n",
    "df[\"Year\"]=df['Date'].dt.year\n",
    "df[\"Month\"]=df['Date'].dt.month\n",
    "df[\"Day\"]=df['Date'].dt.day"
   ]
  },
  {
   "cell_type": "code",
   "execution_count": 17,
   "metadata": {},
   "outputs": [
    {
     "data": {
      "text/html": [
       "<div>\n",
       "<style scoped>\n",
       "    .dataframe tbody tr th:only-of-type {\n",
       "        vertical-align: middle;\n",
       "    }\n",
       "\n",
       "    .dataframe tbody tr th {\n",
       "        vertical-align: top;\n",
       "    }\n",
       "\n",
       "    .dataframe thead th {\n",
       "        text-align: right;\n",
       "    }\n",
       "</style>\n",
       "<table border=\"1\" class=\"dataframe\">\n",
       "  <thead>\n",
       "    <tr style=\"text-align: right;\">\n",
       "      <th></th>\n",
       "      <th>ID</th>\n",
       "      <th>Date</th>\n",
       "      <th>AveragePrice</th>\n",
       "      <th>Total Volume</th>\n",
       "      <th>4046</th>\n",
       "      <th>4225</th>\n",
       "      <th>4770</th>\n",
       "      <th>Total Bags</th>\n",
       "      <th>Small Bags</th>\n",
       "      <th>Large Bags</th>\n",
       "      <th>XLarge Bags</th>\n",
       "      <th>type</th>\n",
       "      <th>year</th>\n",
       "      <th>region</th>\n",
       "      <th>Year</th>\n",
       "      <th>Month</th>\n",
       "      <th>Day</th>\n",
       "    </tr>\n",
       "  </thead>\n",
       "  <tbody>\n",
       "    <tr>\n",
       "      <th>0</th>\n",
       "      <td>0.0</td>\n",
       "      <td>2015-12-27</td>\n",
       "      <td>1.33</td>\n",
       "      <td>64236.62</td>\n",
       "      <td>1036.74</td>\n",
       "      <td>54454.85</td>\n",
       "      <td>48.16</td>\n",
       "      <td>8696.87</td>\n",
       "      <td>8603.62</td>\n",
       "      <td>93.25</td>\n",
       "      <td>0.0</td>\n",
       "      <td>conventional</td>\n",
       "      <td>2015.0</td>\n",
       "      <td>Albany</td>\n",
       "      <td>2015</td>\n",
       "      <td>12</td>\n",
       "      <td>27</td>\n",
       "    </tr>\n",
       "    <tr>\n",
       "      <th>1</th>\n",
       "      <td>1.0</td>\n",
       "      <td>2015-12-20</td>\n",
       "      <td>1.35</td>\n",
       "      <td>54876.98</td>\n",
       "      <td>674.28</td>\n",
       "      <td>44638.81</td>\n",
       "      <td>58.33</td>\n",
       "      <td>9505.56</td>\n",
       "      <td>9408.07</td>\n",
       "      <td>97.49</td>\n",
       "      <td>0.0</td>\n",
       "      <td>conventional</td>\n",
       "      <td>2015.0</td>\n",
       "      <td>Albany</td>\n",
       "      <td>2015</td>\n",
       "      <td>12</td>\n",
       "      <td>20</td>\n",
       "    </tr>\n",
       "    <tr>\n",
       "      <th>2</th>\n",
       "      <td>2.0</td>\n",
       "      <td>2015-12-13</td>\n",
       "      <td>0.93</td>\n",
       "      <td>118220.22</td>\n",
       "      <td>794.70</td>\n",
       "      <td>109149.67</td>\n",
       "      <td>130.50</td>\n",
       "      <td>8145.35</td>\n",
       "      <td>8042.21</td>\n",
       "      <td>103.14</td>\n",
       "      <td>0.0</td>\n",
       "      <td>conventional</td>\n",
       "      <td>2015.0</td>\n",
       "      <td>Albany</td>\n",
       "      <td>2015</td>\n",
       "      <td>12</td>\n",
       "      <td>13</td>\n",
       "    </tr>\n",
       "    <tr>\n",
       "      <th>3</th>\n",
       "      <td>3.0</td>\n",
       "      <td>2015-06-12</td>\n",
       "      <td>1.08</td>\n",
       "      <td>78992.15</td>\n",
       "      <td>1132.00</td>\n",
       "      <td>71976.41</td>\n",
       "      <td>72.58</td>\n",
       "      <td>5811.16</td>\n",
       "      <td>5677.40</td>\n",
       "      <td>133.76</td>\n",
       "      <td>0.0</td>\n",
       "      <td>conventional</td>\n",
       "      <td>2015.0</td>\n",
       "      <td>Albany</td>\n",
       "      <td>2015</td>\n",
       "      <td>6</td>\n",
       "      <td>12</td>\n",
       "    </tr>\n",
       "    <tr>\n",
       "      <th>4</th>\n",
       "      <td>4.0</td>\n",
       "      <td>2015-11-29</td>\n",
       "      <td>1.28</td>\n",
       "      <td>51039.60</td>\n",
       "      <td>941.48</td>\n",
       "      <td>43838.39</td>\n",
       "      <td>75.78</td>\n",
       "      <td>6183.95</td>\n",
       "      <td>5986.26</td>\n",
       "      <td>197.69</td>\n",
       "      <td>0.0</td>\n",
       "      <td>conventional</td>\n",
       "      <td>2015.0</td>\n",
       "      <td>Albany</td>\n",
       "      <td>2015</td>\n",
       "      <td>11</td>\n",
       "      <td>29</td>\n",
       "    </tr>\n",
       "    <tr>\n",
       "      <th>5</th>\n",
       "      <td>5.0</td>\n",
       "      <td>2015-11-22</td>\n",
       "      <td>1.26</td>\n",
       "      <td>55979.78</td>\n",
       "      <td>1184.27</td>\n",
       "      <td>48067.99</td>\n",
       "      <td>43.61</td>\n",
       "      <td>6683.91</td>\n",
       "      <td>6556.47</td>\n",
       "      <td>127.44</td>\n",
       "      <td>0.0</td>\n",
       "      <td>conventional</td>\n",
       "      <td>2015.0</td>\n",
       "      <td>Albany</td>\n",
       "      <td>2015</td>\n",
       "      <td>11</td>\n",
       "      <td>22</td>\n",
       "    </tr>\n",
       "    <tr>\n",
       "      <th>6</th>\n",
       "      <td>6.0</td>\n",
       "      <td>2015-11-15</td>\n",
       "      <td>0.99</td>\n",
       "      <td>83453.76</td>\n",
       "      <td>1368.92</td>\n",
       "      <td>73672.72</td>\n",
       "      <td>93.26</td>\n",
       "      <td>8318.86</td>\n",
       "      <td>8196.81</td>\n",
       "      <td>122.05</td>\n",
       "      <td>0.0</td>\n",
       "      <td>conventional</td>\n",
       "      <td>2015.0</td>\n",
       "      <td>Albany</td>\n",
       "      <td>2015</td>\n",
       "      <td>11</td>\n",
       "      <td>15</td>\n",
       "    </tr>\n",
       "    <tr>\n",
       "      <th>7</th>\n",
       "      <td>7.0</td>\n",
       "      <td>2015-08-11</td>\n",
       "      <td>0.98</td>\n",
       "      <td>109428.33</td>\n",
       "      <td>703.75</td>\n",
       "      <td>101815.36</td>\n",
       "      <td>80.00</td>\n",
       "      <td>6829.22</td>\n",
       "      <td>6266.85</td>\n",
       "      <td>562.37</td>\n",
       "      <td>0.0</td>\n",
       "      <td>conventional</td>\n",
       "      <td>2015.0</td>\n",
       "      <td>Albany</td>\n",
       "      <td>2015</td>\n",
       "      <td>8</td>\n",
       "      <td>11</td>\n",
       "    </tr>\n",
       "    <tr>\n",
       "      <th>8</th>\n",
       "      <td>8.0</td>\n",
       "      <td>2015-01-11</td>\n",
       "      <td>1.02</td>\n",
       "      <td>99811.42</td>\n",
       "      <td>1022.15</td>\n",
       "      <td>87315.57</td>\n",
       "      <td>85.34</td>\n",
       "      <td>11388.36</td>\n",
       "      <td>11104.53</td>\n",
       "      <td>283.83</td>\n",
       "      <td>0.0</td>\n",
       "      <td>conventional</td>\n",
       "      <td>2015.0</td>\n",
       "      <td>Albany</td>\n",
       "      <td>2015</td>\n",
       "      <td>1</td>\n",
       "      <td>11</td>\n",
       "    </tr>\n",
       "    <tr>\n",
       "      <th>9</th>\n",
       "      <td>9.0</td>\n",
       "      <td>2015-10-25</td>\n",
       "      <td>1.07</td>\n",
       "      <td>74338.76</td>\n",
       "      <td>842.40</td>\n",
       "      <td>64757.44</td>\n",
       "      <td>113.00</td>\n",
       "      <td>8625.92</td>\n",
       "      <td>8061.47</td>\n",
       "      <td>564.45</td>\n",
       "      <td>0.0</td>\n",
       "      <td>conventional</td>\n",
       "      <td>2015.0</td>\n",
       "      <td>Albany</td>\n",
       "      <td>2015</td>\n",
       "      <td>10</td>\n",
       "      <td>25</td>\n",
       "    </tr>\n",
       "  </tbody>\n",
       "</table>\n",
       "</div>"
      ],
      "text/plain": [
       "    ID       Date  AveragePrice  Total Volume     4046       4225    4770  \\\n",
       "0  0.0 2015-12-27          1.33      64236.62  1036.74   54454.85   48.16   \n",
       "1  1.0 2015-12-20          1.35      54876.98   674.28   44638.81   58.33   \n",
       "2  2.0 2015-12-13          0.93     118220.22   794.70  109149.67  130.50   \n",
       "3  3.0 2015-06-12          1.08      78992.15  1132.00   71976.41   72.58   \n",
       "4  4.0 2015-11-29          1.28      51039.60   941.48   43838.39   75.78   \n",
       "5  5.0 2015-11-22          1.26      55979.78  1184.27   48067.99   43.61   \n",
       "6  6.0 2015-11-15          0.99      83453.76  1368.92   73672.72   93.26   \n",
       "7  7.0 2015-08-11          0.98     109428.33   703.75  101815.36   80.00   \n",
       "8  8.0 2015-01-11          1.02      99811.42  1022.15   87315.57   85.34   \n",
       "9  9.0 2015-10-25          1.07      74338.76   842.40   64757.44  113.00   \n",
       "\n",
       "   Total Bags  Small Bags  Large Bags  XLarge Bags          type    year  \\\n",
       "0     8696.87     8603.62       93.25          0.0  conventional  2015.0   \n",
       "1     9505.56     9408.07       97.49          0.0  conventional  2015.0   \n",
       "2     8145.35     8042.21      103.14          0.0  conventional  2015.0   \n",
       "3     5811.16     5677.40      133.76          0.0  conventional  2015.0   \n",
       "4     6183.95     5986.26      197.69          0.0  conventional  2015.0   \n",
       "5     6683.91     6556.47      127.44          0.0  conventional  2015.0   \n",
       "6     8318.86     8196.81      122.05          0.0  conventional  2015.0   \n",
       "7     6829.22     6266.85      562.37          0.0  conventional  2015.0   \n",
       "8    11388.36    11104.53      283.83          0.0  conventional  2015.0   \n",
       "9     8625.92     8061.47      564.45          0.0  conventional  2015.0   \n",
       "\n",
       "   region  Year  Month  Day  \n",
       "0  Albany  2015     12   27  \n",
       "1  Albany  2015     12   20  \n",
       "2  Albany  2015     12   13  \n",
       "3  Albany  2015      6   12  \n",
       "4  Albany  2015     11   29  \n",
       "5  Albany  2015     11   22  \n",
       "6  Albany  2015     11   15  \n",
       "7  Albany  2015      8   11  \n",
       "8  Albany  2015      1   11  \n",
       "9  Albany  2015     10   25  "
      ]
     },
     "execution_count": 17,
     "metadata": {},
     "output_type": "execute_result"
    }
   ],
   "source": [
    "df.head(10)"
   ]
  },
  {
   "cell_type": "markdown",
   "metadata": {},
   "source": [
    "# Unique values"
   ]
  },
  {
   "cell_type": "code",
   "execution_count": 18,
   "metadata": {},
   "outputs": [
    {
     "data": {
      "text/plain": [
       "ID                52\n",
       "Date             104\n",
       "AveragePrice     113\n",
       "Total Volume    1517\n",
       "4046            1517\n",
       "4225            1517\n",
       "4770            1516\n",
       "Total Bags      1517\n",
       "Small Bags      1517\n",
       "Large Bags      1377\n",
       "XLarge Bags      711\n",
       "type               1\n",
       "year               2\n",
       "region            51\n",
       "Year               2\n",
       "Month             12\n",
       "Day               31\n",
       "dtype: int64"
      ]
     },
     "execution_count": 18,
     "metadata": {},
     "output_type": "execute_result"
    }
   ],
   "source": [
    "df.nunique()"
   ]
  },
  {
   "cell_type": "markdown",
   "metadata": {},
   "source": [
    "# Null values"
   ]
  },
  {
   "cell_type": "code",
   "execution_count": 19,
   "metadata": {},
   "outputs": [
    {
     "data": {
      "text/plain": [
       "ID              0\n",
       "Date            0\n",
       "AveragePrice    0\n",
       "Total Volume    0\n",
       "4046            0\n",
       "4225            0\n",
       "4770            0\n",
       "Total Bags      0\n",
       "Small Bags      0\n",
       "Large Bags      0\n",
       "XLarge Bags     0\n",
       "type            0\n",
       "year            0\n",
       "region          0\n",
       "Year            0\n",
       "Month           0\n",
       "Day             0\n",
       "dtype: int64"
      ]
     },
     "execution_count": 19,
     "metadata": {},
     "output_type": "execute_result"
    }
   ],
   "source": [
    "df.isnull().sum()"
   ]
  },
  {
   "cell_type": "markdown",
   "metadata": {},
   "source": [
    "# Dropping Unnecessary columns"
   ]
  },
  {
   "cell_type": "code",
   "execution_count": 20,
   "metadata": {},
   "outputs": [],
   "source": [
    "df.drop(['Year','Date'], axis=1,inplace=True)"
   ]
  },
  {
   "cell_type": "markdown",
   "metadata": {},
   "source": [
    "# Summary statistics"
   ]
  },
  {
   "cell_type": "code",
   "execution_count": 21,
   "metadata": {},
   "outputs": [
    {
     "data": {
      "text/html": [
       "<div>\n",
       "<style scoped>\n",
       "    .dataframe tbody tr th:only-of-type {\n",
       "        vertical-align: middle;\n",
       "    }\n",
       "\n",
       "    .dataframe tbody tr th {\n",
       "        vertical-align: top;\n",
       "    }\n",
       "\n",
       "    .dataframe thead th {\n",
       "        text-align: right;\n",
       "    }\n",
       "</style>\n",
       "<table border=\"1\" class=\"dataframe\">\n",
       "  <thead>\n",
       "    <tr style=\"text-align: right;\">\n",
       "      <th></th>\n",
       "      <th>ID</th>\n",
       "      <th>AveragePrice</th>\n",
       "      <th>Total Volume</th>\n",
       "      <th>4046</th>\n",
       "      <th>4225</th>\n",
       "      <th>4770</th>\n",
       "      <th>Total Bags</th>\n",
       "      <th>Small Bags</th>\n",
       "      <th>Large Bags</th>\n",
       "      <th>XLarge Bags</th>\n",
       "      <th>year</th>\n",
       "      <th>Month</th>\n",
       "      <th>Day</th>\n",
       "    </tr>\n",
       "  </thead>\n",
       "  <tbody>\n",
       "    <tr>\n",
       "      <th>count</th>\n",
       "      <td>1517.000000</td>\n",
       "      <td>1517.000000</td>\n",
       "      <td>1.517000e+03</td>\n",
       "      <td>1.517000e+03</td>\n",
       "      <td>1.517000e+03</td>\n",
       "      <td>1.517000e+03</td>\n",
       "      <td>1.517000e+03</td>\n",
       "      <td>1.517000e+03</td>\n",
       "      <td>1.517000e+03</td>\n",
       "      <td>1517.000000</td>\n",
       "      <td>1517.000000</td>\n",
       "      <td>1517.000000</td>\n",
       "      <td>1517.000000</td>\n",
       "    </tr>\n",
       "    <tr>\n",
       "      <th>mean</th>\n",
       "      <td>26.995386</td>\n",
       "      <td>1.074990</td>\n",
       "      <td>1.601879e+06</td>\n",
       "      <td>6.464387e+05</td>\n",
       "      <td>6.114375e+05</td>\n",
       "      <td>5.040550e+04</td>\n",
       "      <td>2.935974e+05</td>\n",
       "      <td>2.487736e+05</td>\n",
       "      <td>4.264205e+04</td>\n",
       "      <td>2181.771074</td>\n",
       "      <td>2015.162821</td>\n",
       "      <td>6.362558</td>\n",
       "      <td>15.253790</td>\n",
       "    </tr>\n",
       "    <tr>\n",
       "      <th>std</th>\n",
       "      <td>14.848287</td>\n",
       "      <td>0.188891</td>\n",
       "      <td>4.433143e+06</td>\n",
       "      <td>1.947614e+06</td>\n",
       "      <td>1.672906e+06</td>\n",
       "      <td>1.377812e+05</td>\n",
       "      <td>7.579765e+05</td>\n",
       "      <td>6.474765e+05</td>\n",
       "      <td>1.182157e+05</td>\n",
       "      <td>7455.712144</td>\n",
       "      <td>0.369324</td>\n",
       "      <td>3.472146</td>\n",
       "      <td>8.965902</td>\n",
       "    </tr>\n",
       "    <tr>\n",
       "      <th>min</th>\n",
       "      <td>0.000000</td>\n",
       "      <td>0.490000</td>\n",
       "      <td>3.875074e+04</td>\n",
       "      <td>4.677200e+02</td>\n",
       "      <td>1.783770e+03</td>\n",
       "      <td>0.000000e+00</td>\n",
       "      <td>3.311770e+03</td>\n",
       "      <td>3.311770e+03</td>\n",
       "      <td>0.000000e+00</td>\n",
       "      <td>0.000000</td>\n",
       "      <td>2015.000000</td>\n",
       "      <td>1.000000</td>\n",
       "      <td>1.000000</td>\n",
       "    </tr>\n",
       "    <tr>\n",
       "      <th>25%</th>\n",
       "      <td>14.000000</td>\n",
       "      <td>0.980000</td>\n",
       "      <td>1.474700e+05</td>\n",
       "      <td>2.040034e+04</td>\n",
       "      <td>4.147606e+04</td>\n",
       "      <td>9.112500e+02</td>\n",
       "      <td>3.620689e+04</td>\n",
       "      <td>2.972722e+04</td>\n",
       "      <td>5.407400e+02</td>\n",
       "      <td>0.000000</td>\n",
       "      <td>2015.000000</td>\n",
       "      <td>3.000000</td>\n",
       "      <td>7.000000</td>\n",
       "    </tr>\n",
       "    <tr>\n",
       "      <th>50%</th>\n",
       "      <td>29.000000</td>\n",
       "      <td>1.080000</td>\n",
       "      <td>4.027919e+05</td>\n",
       "      <td>8.175117e+04</td>\n",
       "      <td>1.186649e+05</td>\n",
       "      <td>7.688170e+03</td>\n",
       "      <td>7.397906e+04</td>\n",
       "      <td>6.237569e+04</td>\n",
       "      <td>5.044350e+03</td>\n",
       "      <td>0.000000</td>\n",
       "      <td>2015.000000</td>\n",
       "      <td>6.000000</td>\n",
       "      <td>15.000000</td>\n",
       "    </tr>\n",
       "    <tr>\n",
       "      <th>75%</th>\n",
       "      <td>39.000000</td>\n",
       "      <td>1.190000</td>\n",
       "      <td>9.819751e+05</td>\n",
       "      <td>3.775785e+05</td>\n",
       "      <td>4.851503e+05</td>\n",
       "      <td>2.916730e+04</td>\n",
       "      <td>1.576097e+05</td>\n",
       "      <td>1.461994e+05</td>\n",
       "      <td>2.926767e+04</td>\n",
       "      <td>401.480000</td>\n",
       "      <td>2015.000000</td>\n",
       "      <td>9.000000</td>\n",
       "      <td>22.000000</td>\n",
       "    </tr>\n",
       "    <tr>\n",
       "      <th>max</th>\n",
       "      <td>51.000000</td>\n",
       "      <td>1.680000</td>\n",
       "      <td>4.465546e+07</td>\n",
       "      <td>1.893304e+07</td>\n",
       "      <td>1.895648e+07</td>\n",
       "      <td>1.381516e+06</td>\n",
       "      <td>6.736304e+06</td>\n",
       "      <td>5.893642e+06</td>\n",
       "      <td>1.121076e+06</td>\n",
       "      <td>108072.790000</td>\n",
       "      <td>2016.000000</td>\n",
       "      <td>12.000000</td>\n",
       "      <td>31.000000</td>\n",
       "    </tr>\n",
       "  </tbody>\n",
       "</table>\n",
       "</div>"
      ],
      "text/plain": [
       "                ID  AveragePrice  Total Volume          4046          4225  \\\n",
       "count  1517.000000   1517.000000  1.517000e+03  1.517000e+03  1.517000e+03   \n",
       "mean     26.995386      1.074990  1.601879e+06  6.464387e+05  6.114375e+05   \n",
       "std      14.848287      0.188891  4.433143e+06  1.947614e+06  1.672906e+06   \n",
       "min       0.000000      0.490000  3.875074e+04  4.677200e+02  1.783770e+03   \n",
       "25%      14.000000      0.980000  1.474700e+05  2.040034e+04  4.147606e+04   \n",
       "50%      29.000000      1.080000  4.027919e+05  8.175117e+04  1.186649e+05   \n",
       "75%      39.000000      1.190000  9.819751e+05  3.775785e+05  4.851503e+05   \n",
       "max      51.000000      1.680000  4.465546e+07  1.893304e+07  1.895648e+07   \n",
       "\n",
       "               4770    Total Bags    Small Bags    Large Bags    XLarge Bags  \\\n",
       "count  1.517000e+03  1.517000e+03  1.517000e+03  1.517000e+03    1517.000000   \n",
       "mean   5.040550e+04  2.935974e+05  2.487736e+05  4.264205e+04    2181.771074   \n",
       "std    1.377812e+05  7.579765e+05  6.474765e+05  1.182157e+05    7455.712144   \n",
       "min    0.000000e+00  3.311770e+03  3.311770e+03  0.000000e+00       0.000000   \n",
       "25%    9.112500e+02  3.620689e+04  2.972722e+04  5.407400e+02       0.000000   \n",
       "50%    7.688170e+03  7.397906e+04  6.237569e+04  5.044350e+03       0.000000   \n",
       "75%    2.916730e+04  1.576097e+05  1.461994e+05  2.926767e+04     401.480000   \n",
       "max    1.381516e+06  6.736304e+06  5.893642e+06  1.121076e+06  108072.790000   \n",
       "\n",
       "              year        Month          Day  \n",
       "count  1517.000000  1517.000000  1517.000000  \n",
       "mean   2015.162821     6.362558    15.253790  \n",
       "std       0.369324     3.472146     8.965902  \n",
       "min    2015.000000     1.000000     1.000000  \n",
       "25%    2015.000000     3.000000     7.000000  \n",
       "50%    2015.000000     6.000000    15.000000  \n",
       "75%    2015.000000     9.000000    22.000000  \n",
       "max    2016.000000    12.000000    31.000000  "
      ]
     },
     "execution_count": 21,
     "metadata": {},
     "output_type": "execute_result"
    }
   ],
   "source": [
    "df.describe()"
   ]
  },
  {
   "cell_type": "markdown",
   "metadata": {},
   "source": [
    "# Exploring the catagorical columns :"
   ]
  },
  {
   "cell_type": "markdown",
   "metadata": {},
   "source": [
    "### Printing the object data type column and their unique values"
   ]
  },
  {
   "cell_type": "code",
   "execution_count": 22,
   "metadata": {},
   "outputs": [
    {
     "name": "stdout",
     "output_type": "stream",
     "text": [
      "type:['conventional']\n",
      "conventional    1517\n",
      "Name: type, dtype: int64\n",
      "***********************************************************************************************\n",
      "\n",
      "\n",
      "region:['Albany' 'Atlanta' 'BaltimoreWashington' 'Boise' 'Boston'\n",
      " 'BuffaloRochester' 'California' 'Charlotte' 'Chicago' 'Columbus'\n",
      " 'DallasFtWorth' 'Denver' 'Detroit' 'GrandRapids' 'GreatLakes'\n",
      " 'HarrisburgScranton' 'HartfordSpringfield' 'Houston' 'Indianapolis'\n",
      " 'Jacksonville' 'LasVegas' 'LosAngeles' 'Louisville' 'MiamiFtLauderdale'\n",
      " 'Midsouth' 'Nashville' 'NewYork' 'Northeast' 'NorthernNewEngland'\n",
      " 'Orlando' 'Philadelphia' 'PhoenixTucson' 'Pittsburgh' 'Plains' 'Portland'\n",
      " 'RaleighGreensboro' 'RichmondNorfolk' 'Roanoke' 'SanDiego' 'SanFrancisco'\n",
      " 'Seattle' 'SouthCarolina' 'SouthCentral' 'Southeast' 'Spokane' 'StLouis'\n",
      " 'Syracuse' 'Tampa' 'TotalUS' 'West' 'WestTexNewMexico']\n",
      "California             76\n",
      "Albany                 67\n",
      "BaltimoreWashington    65\n",
      "Boise                  65\n",
      "Boston                 62\n",
      "Atlanta                54\n",
      "PhoenixTucson          52\n",
      "BuffaloRochester       51\n",
      "Spokane                49\n",
      "Columbus               47\n",
      "NewYork                44\n",
      "Jacksonville           41\n",
      "Detroit                40\n",
      "SouthCentral           39\n",
      "SanDiego               38\n",
      "West                   36\n",
      "Tampa                  34\n",
      "Louisville             34\n",
      "Charlotte              31\n",
      "Portland               30\n",
      "Houston                29\n",
      "NorthernNewEngland     29\n",
      "WestTexNewMexico       27\n",
      "Nashville              25\n",
      "TotalUS                25\n",
      "Denver                 24\n",
      "SouthCarolina          24\n",
      "GrandRapids            23\n",
      "Chicago                23\n",
      "Pittsburgh             22\n",
      "RichmondNorfolk        21\n",
      "Orlando                21\n",
      "Syracuse               19\n",
      "HarrisburgScranton     19\n",
      "Midsouth               18\n",
      "GreatLakes             18\n",
      "MiamiFtLauderdale      17\n",
      "DallasFtWorth          17\n",
      "Roanoke                17\n",
      "StLouis                16\n",
      "Indianapolis           16\n",
      "RaleighGreensboro      16\n",
      "SanFrancisco           15\n",
      "Philadelphia           13\n",
      "HartfordSpringfield    13\n",
      "Northeast              12\n",
      "Plains                 12\n",
      "LasVegas               10\n",
      "Southeast               9\n",
      "Seattle                 9\n",
      "LosAngeles              3\n",
      "Name: region, dtype: int64\n",
      "***********************************************************************************************\n",
      "\n",
      "\n"
     ]
    }
   ],
   "source": [
    "for column in df.columns: \n",
    "    if df[column].dtypes==object:\n",
    "        print(str(column)+':'+str(df[column].unique()))\n",
    "        print(df[column].value_counts())\n",
    "        print(\"***********************************************************************************************\")\n",
    "        print('\\n')"
   ]
  },
  {
   "cell_type": "markdown",
   "metadata": {},
   "source": [
    "# Correlation:"
   ]
  },
  {
   "cell_type": "code",
   "execution_count": 23,
   "metadata": {},
   "outputs": [
    {
     "data": {
      "text/html": [
       "<div>\n",
       "<style scoped>\n",
       "    .dataframe tbody tr th:only-of-type {\n",
       "        vertical-align: middle;\n",
       "    }\n",
       "\n",
       "    .dataframe tbody tr th {\n",
       "        vertical-align: top;\n",
       "    }\n",
       "\n",
       "    .dataframe thead th {\n",
       "        text-align: right;\n",
       "    }\n",
       "</style>\n",
       "<table border=\"1\" class=\"dataframe\">\n",
       "  <thead>\n",
       "    <tr style=\"text-align: right;\">\n",
       "      <th></th>\n",
       "      <th>ID</th>\n",
       "      <th>AveragePrice</th>\n",
       "      <th>Total Volume</th>\n",
       "      <th>4046</th>\n",
       "      <th>4225</th>\n",
       "      <th>4770</th>\n",
       "      <th>Total Bags</th>\n",
       "      <th>Small Bags</th>\n",
       "      <th>Large Bags</th>\n",
       "      <th>XLarge Bags</th>\n",
       "      <th>year</th>\n",
       "      <th>Month</th>\n",
       "      <th>Day</th>\n",
       "    </tr>\n",
       "  </thead>\n",
       "  <tbody>\n",
       "    <tr>\n",
       "      <th>ID</th>\n",
       "      <td>1.000000</td>\n",
       "      <td>-0.075531</td>\n",
       "      <td>0.091934</td>\n",
       "      <td>0.092013</td>\n",
       "      <td>0.093566</td>\n",
       "      <td>0.075647</td>\n",
       "      <td>0.081007</td>\n",
       "      <td>0.083485</td>\n",
       "      <td>0.065364</td>\n",
       "      <td>-0.050993</td>\n",
       "      <td>-0.012854</td>\n",
       "      <td>-0.598729</td>\n",
       "      <td>-0.261166</td>\n",
       "    </tr>\n",
       "    <tr>\n",
       "      <th>AveragePrice</th>\n",
       "      <td>-0.075531</td>\n",
       "      <td>1.000000</td>\n",
       "      <td>-0.140470</td>\n",
       "      <td>-0.190096</td>\n",
       "      <td>-0.092084</td>\n",
       "      <td>-0.100567</td>\n",
       "      <td>-0.111597</td>\n",
       "      <td>-0.097682</td>\n",
       "      <td>-0.177480</td>\n",
       "      <td>-0.048284</td>\n",
       "      <td>0.178683</td>\n",
       "      <td>0.060642</td>\n",
       "      <td>0.092589</td>\n",
       "    </tr>\n",
       "    <tr>\n",
       "      <th>Total Volume</th>\n",
       "      <td>0.091934</td>\n",
       "      <td>-0.140470</td>\n",
       "      <td>1.000000</td>\n",
       "      <td>0.985568</td>\n",
       "      <td>0.987154</td>\n",
       "      <td>0.934347</td>\n",
       "      <td>0.967689</td>\n",
       "      <td>0.960642</td>\n",
       "      <td>0.910226</td>\n",
       "      <td>0.521717</td>\n",
       "      <td>-0.004189</td>\n",
       "      <td>-0.055212</td>\n",
       "      <td>-0.034857</td>\n",
       "    </tr>\n",
       "    <tr>\n",
       "      <th>4046</th>\n",
       "      <td>0.092013</td>\n",
       "      <td>-0.190096</td>\n",
       "      <td>0.985568</td>\n",
       "      <td>1.000000</td>\n",
       "      <td>0.951952</td>\n",
       "      <td>0.898570</td>\n",
       "      <td>0.930395</td>\n",
       "      <td>0.922278</td>\n",
       "      <td>0.884229</td>\n",
       "      <td>0.474063</td>\n",
       "      <td>-0.040439</td>\n",
       "      <td>-0.053007</td>\n",
       "      <td>-0.031806</td>\n",
       "    </tr>\n",
       "    <tr>\n",
       "      <th>4225</th>\n",
       "      <td>0.093566</td>\n",
       "      <td>-0.092084</td>\n",
       "      <td>0.987154</td>\n",
       "      <td>0.951952</td>\n",
       "      <td>1.000000</td>\n",
       "      <td>0.927757</td>\n",
       "      <td>0.951779</td>\n",
       "      <td>0.943988</td>\n",
       "      <td>0.900496</td>\n",
       "      <td>0.504718</td>\n",
       "      <td>-0.007254</td>\n",
       "      <td>-0.058429</td>\n",
       "      <td>-0.044008</td>\n",
       "    </tr>\n",
       "    <tr>\n",
       "      <th>4770</th>\n",
       "      <td>0.075647</td>\n",
       "      <td>-0.100567</td>\n",
       "      <td>0.934347</td>\n",
       "      <td>0.898570</td>\n",
       "      <td>0.927757</td>\n",
       "      <td>1.000000</td>\n",
       "      <td>0.926405</td>\n",
       "      <td>0.923607</td>\n",
       "      <td>0.840523</td>\n",
       "      <td>0.646053</td>\n",
       "      <td>0.029222</td>\n",
       "      <td>-0.055079</td>\n",
       "      <td>-0.021318</td>\n",
       "    </tr>\n",
       "    <tr>\n",
       "      <th>Total Bags</th>\n",
       "      <td>0.081007</td>\n",
       "      <td>-0.111597</td>\n",
       "      <td>0.967689</td>\n",
       "      <td>0.930395</td>\n",
       "      <td>0.951779</td>\n",
       "      <td>0.926405</td>\n",
       "      <td>1.000000</td>\n",
       "      <td>0.997341</td>\n",
       "      <td>0.911336</td>\n",
       "      <td>0.601856</td>\n",
       "      <td>0.090108</td>\n",
       "      <td>-0.047747</td>\n",
       "      <td>-0.021137</td>\n",
       "    </tr>\n",
       "    <tr>\n",
       "      <th>Small Bags</th>\n",
       "      <td>0.083485</td>\n",
       "      <td>-0.097682</td>\n",
       "      <td>0.960642</td>\n",
       "      <td>0.922278</td>\n",
       "      <td>0.943988</td>\n",
       "      <td>0.923607</td>\n",
       "      <td>0.997341</td>\n",
       "      <td>1.000000</td>\n",
       "      <td>0.879131</td>\n",
       "      <td>0.611300</td>\n",
       "      <td>0.106382</td>\n",
       "      <td>-0.048978</td>\n",
       "      <td>-0.016462</td>\n",
       "    </tr>\n",
       "    <tr>\n",
       "      <th>Large Bags</th>\n",
       "      <td>0.065364</td>\n",
       "      <td>-0.177480</td>\n",
       "      <td>0.910226</td>\n",
       "      <td>0.884229</td>\n",
       "      <td>0.900496</td>\n",
       "      <td>0.840523</td>\n",
       "      <td>0.911336</td>\n",
       "      <td>0.879131</td>\n",
       "      <td>1.000000</td>\n",
       "      <td>0.447779</td>\n",
       "      <td>-0.018678</td>\n",
       "      <td>-0.039242</td>\n",
       "      <td>-0.046578</td>\n",
       "    </tr>\n",
       "    <tr>\n",
       "      <th>XLarge Bags</th>\n",
       "      <td>-0.050993</td>\n",
       "      <td>-0.048284</td>\n",
       "      <td>0.521717</td>\n",
       "      <td>0.474063</td>\n",
       "      <td>0.504718</td>\n",
       "      <td>0.646053</td>\n",
       "      <td>0.601856</td>\n",
       "      <td>0.611300</td>\n",
       "      <td>0.447779</td>\n",
       "      <td>1.000000</td>\n",
       "      <td>0.218342</td>\n",
       "      <td>0.021452</td>\n",
       "      <td>0.019315</td>\n",
       "    </tr>\n",
       "    <tr>\n",
       "      <th>year</th>\n",
       "      <td>-0.012854</td>\n",
       "      <td>0.178683</td>\n",
       "      <td>-0.004189</td>\n",
       "      <td>-0.040439</td>\n",
       "      <td>-0.007254</td>\n",
       "      <td>0.029222</td>\n",
       "      <td>0.090108</td>\n",
       "      <td>0.106382</td>\n",
       "      <td>-0.018678</td>\n",
       "      <td>0.218342</td>\n",
       "      <td>1.000000</td>\n",
       "      <td>-0.013144</td>\n",
       "      <td>0.029744</td>\n",
       "    </tr>\n",
       "    <tr>\n",
       "      <th>Month</th>\n",
       "      <td>-0.598729</td>\n",
       "      <td>0.060642</td>\n",
       "      <td>-0.055212</td>\n",
       "      <td>-0.053007</td>\n",
       "      <td>-0.058429</td>\n",
       "      <td>-0.055079</td>\n",
       "      <td>-0.047747</td>\n",
       "      <td>-0.048978</td>\n",
       "      <td>-0.039242</td>\n",
       "      <td>0.021452</td>\n",
       "      <td>-0.013144</td>\n",
       "      <td>1.000000</td>\n",
       "      <td>-0.024337</td>\n",
       "    </tr>\n",
       "    <tr>\n",
       "      <th>Day</th>\n",
       "      <td>-0.261166</td>\n",
       "      <td>0.092589</td>\n",
       "      <td>-0.034857</td>\n",
       "      <td>-0.031806</td>\n",
       "      <td>-0.044008</td>\n",
       "      <td>-0.021318</td>\n",
       "      <td>-0.021137</td>\n",
       "      <td>-0.016462</td>\n",
       "      <td>-0.046578</td>\n",
       "      <td>0.019315</td>\n",
       "      <td>0.029744</td>\n",
       "      <td>-0.024337</td>\n",
       "      <td>1.000000</td>\n",
       "    </tr>\n",
       "  </tbody>\n",
       "</table>\n",
       "</div>"
      ],
      "text/plain": [
       "                    ID  AveragePrice  Total Volume      4046      4225  \\\n",
       "ID            1.000000     -0.075531      0.091934  0.092013  0.093566   \n",
       "AveragePrice -0.075531      1.000000     -0.140470 -0.190096 -0.092084   \n",
       "Total Volume  0.091934     -0.140470      1.000000  0.985568  0.987154   \n",
       "4046          0.092013     -0.190096      0.985568  1.000000  0.951952   \n",
       "4225          0.093566     -0.092084      0.987154  0.951952  1.000000   \n",
       "4770          0.075647     -0.100567      0.934347  0.898570  0.927757   \n",
       "Total Bags    0.081007     -0.111597      0.967689  0.930395  0.951779   \n",
       "Small Bags    0.083485     -0.097682      0.960642  0.922278  0.943988   \n",
       "Large Bags    0.065364     -0.177480      0.910226  0.884229  0.900496   \n",
       "XLarge Bags  -0.050993     -0.048284      0.521717  0.474063  0.504718   \n",
       "year         -0.012854      0.178683     -0.004189 -0.040439 -0.007254   \n",
       "Month        -0.598729      0.060642     -0.055212 -0.053007 -0.058429   \n",
       "Day          -0.261166      0.092589     -0.034857 -0.031806 -0.044008   \n",
       "\n",
       "                  4770  Total Bags  Small Bags  Large Bags  XLarge Bags  \\\n",
       "ID            0.075647    0.081007    0.083485    0.065364    -0.050993   \n",
       "AveragePrice -0.100567   -0.111597   -0.097682   -0.177480    -0.048284   \n",
       "Total Volume  0.934347    0.967689    0.960642    0.910226     0.521717   \n",
       "4046          0.898570    0.930395    0.922278    0.884229     0.474063   \n",
       "4225          0.927757    0.951779    0.943988    0.900496     0.504718   \n",
       "4770          1.000000    0.926405    0.923607    0.840523     0.646053   \n",
       "Total Bags    0.926405    1.000000    0.997341    0.911336     0.601856   \n",
       "Small Bags    0.923607    0.997341    1.000000    0.879131     0.611300   \n",
       "Large Bags    0.840523    0.911336    0.879131    1.000000     0.447779   \n",
       "XLarge Bags   0.646053    0.601856    0.611300    0.447779     1.000000   \n",
       "year          0.029222    0.090108    0.106382   -0.018678     0.218342   \n",
       "Month        -0.055079   -0.047747   -0.048978   -0.039242     0.021452   \n",
       "Day          -0.021318   -0.021137   -0.016462   -0.046578     0.019315   \n",
       "\n",
       "                  year     Month       Day  \n",
       "ID           -0.012854 -0.598729 -0.261166  \n",
       "AveragePrice  0.178683  0.060642  0.092589  \n",
       "Total Volume -0.004189 -0.055212 -0.034857  \n",
       "4046         -0.040439 -0.053007 -0.031806  \n",
       "4225         -0.007254 -0.058429 -0.044008  \n",
       "4770          0.029222 -0.055079 -0.021318  \n",
       "Total Bags    0.090108 -0.047747 -0.021137  \n",
       "Small Bags    0.106382 -0.048978 -0.016462  \n",
       "Large Bags   -0.018678 -0.039242 -0.046578  \n",
       "XLarge Bags   0.218342  0.021452  0.019315  \n",
       "year          1.000000 -0.013144  0.029744  \n",
       "Month        -0.013144  1.000000 -0.024337  \n",
       "Day           0.029744 -0.024337  1.000000  "
      ]
     },
     "execution_count": 23,
     "metadata": {},
     "output_type": "execute_result"
    }
   ],
   "source": [
    "df.corr()"
   ]
  },
  {
   "cell_type": "markdown",
   "metadata": {},
   "source": [
    "# Correlation with target column"
   ]
  },
  {
   "cell_type": "code",
   "execution_count": 24,
   "metadata": {},
   "outputs": [
    {
     "data": {
      "text/plain": [
       "Text(0.5, 1.0, 'Correlation with Target Variable')"
      ]
     },
     "execution_count": 24,
     "metadata": {},
     "output_type": "execute_result"
    },
    {
     "data": {
      "image/png": "[encoded data removed]",
      "text/plain": [
       "<Figure size 1296x576 with 1 Axes>"
      ]
     },
     "metadata": {
      "needs_background": "light"
     },
     "output_type": "display_data"
    }
   ],
   "source": [
    "plt.figure(figsize=(18,8))\n",
    "df.drop('AveragePrice',axis=1).corrwith(df['AveragePrice']).plot(kind='bar',grid=True)\n",
    "plt.xticks(rotation='vertical')\n",
    "plt.title(\"Correlation with Target Variable\",fontsize=20)"
   ]
  },
  {
   "cell_type": "markdown",
   "metadata": {},
   "source": [
    "# Heatmap"
   ]
  },
  {
   "cell_type": "code",
   "execution_count": 25,
   "metadata": {
    "scrolled": true
   },
   "outputs": [
    {
     "data": {
      "text/plain": [
       "<AxesSubplot:>"
      ]
     },
     "execution_count": 25,
     "metadata": {},
     "output_type": "execute_result"
    },
    {
     "data": {
      "image/png": "[encoded data removed]",
      "text/plain": [
       "<Figure size 1800x1080 with 2 Axes>"
      ]
     },
     "metadata": {
      "needs_background": "light"
     },
     "output_type": "display_data"
    }
   ],
   "source": [
    "plt.subplots(figsize=(25,15))\n",
    "sns.heatmap(df.corr(),annot=True)"
   ]
  },
  {
   "cell_type": "markdown",
   "metadata": {},
   "source": [
    "# Check outliers"
   ]
  },
  {
   "cell_type": "code",
   "execution_count": 26,
   "metadata": {},
   "outputs": [
    {
     "data": {
      "image/png": "[encoded data removed]",
      "text/plain": [
       "<Figure size 936x432 with 16 Axes>"
      ]
     },
     "metadata": {
      "needs_background": "light"
     },
     "output_type": "display_data"
    }
   ],
   "source": [
    "df.plot(kind='box',subplots=True,layout=(2,8),color='green',figsize=(13,6))\n",
    "plt.tight_layout()"
   ]
  },
  {
   "cell_type": "code",
   "execution_count": 27,
   "metadata": {},
   "outputs": [],
   "source": [
    "df.drop(['Total Bags', 'Small Bags', 'Large Bags', 'XLarge Bags'],axis=1,inplace=True)"
   ]
  },
  {
   "cell_type": "code",
   "execution_count": 28,
   "metadata": {},
   "outputs": [],
   "source": [
    "df.drop(['type'],axis=1,inplace=True)"
   ]
  },
  {
   "cell_type": "code",
   "execution_count": 29,
   "metadata": {},
   "outputs": [
    {
     "data": {
      "text/html": [
       "<div>\n",
       "<style scoped>\n",
       "    .dataframe tbody tr th:only-of-type {\n",
       "        vertical-align: middle;\n",
       "    }\n",
       "\n",
       "    .dataframe tbody tr th {\n",
       "        vertical-align: top;\n",
       "    }\n",
       "\n",
       "    .dataframe thead th {\n",
       "        text-align: right;\n",
       "    }\n",
       "</style>\n",
       "<table border=\"1\" class=\"dataframe\">\n",
       "  <thead>\n",
       "    <tr style=\"text-align: right;\">\n",
       "      <th></th>\n",
       "      <th>ID</th>\n",
       "      <th>AveragePrice</th>\n",
       "      <th>Total Volume</th>\n",
       "      <th>4046</th>\n",
       "      <th>4225</th>\n",
       "      <th>4770</th>\n",
       "      <th>year</th>\n",
       "      <th>region</th>\n",
       "      <th>Month</th>\n",
       "      <th>Day</th>\n",
       "    </tr>\n",
       "  </thead>\n",
       "  <tbody>\n",
       "    <tr>\n",
       "      <th>0</th>\n",
       "      <td>0.0</td>\n",
       "      <td>1.33</td>\n",
       "      <td>64236.62</td>\n",
       "      <td>1036.74</td>\n",
       "      <td>54454.85</td>\n",
       "      <td>48.16</td>\n",
       "      <td>2015.0</td>\n",
       "      <td>Albany</td>\n",
       "      <td>12</td>\n",
       "      <td>27</td>\n",
       "    </tr>\n",
       "    <tr>\n",
       "      <th>1</th>\n",
       "      <td>1.0</td>\n",
       "      <td>1.35</td>\n",
       "      <td>54876.98</td>\n",
       "      <td>674.28</td>\n",
       "      <td>44638.81</td>\n",
       "      <td>58.33</td>\n",
       "      <td>2015.0</td>\n",
       "      <td>Albany</td>\n",
       "      <td>12</td>\n",
       "      <td>20</td>\n",
       "    </tr>\n",
       "    <tr>\n",
       "      <th>2</th>\n",
       "      <td>2.0</td>\n",
       "      <td>0.93</td>\n",
       "      <td>118220.22</td>\n",
       "      <td>794.70</td>\n",
       "      <td>109149.67</td>\n",
       "      <td>130.50</td>\n",
       "      <td>2015.0</td>\n",
       "      <td>Albany</td>\n",
       "      <td>12</td>\n",
       "      <td>13</td>\n",
       "    </tr>\n",
       "    <tr>\n",
       "      <th>3</th>\n",
       "      <td>3.0</td>\n",
       "      <td>1.08</td>\n",
       "      <td>78992.15</td>\n",
       "      <td>1132.00</td>\n",
       "      <td>71976.41</td>\n",
       "      <td>72.58</td>\n",
       "      <td>2015.0</td>\n",
       "      <td>Albany</td>\n",
       "      <td>6</td>\n",
       "      <td>12</td>\n",
       "    </tr>\n",
       "    <tr>\n",
       "      <th>4</th>\n",
       "      <td>4.0</td>\n",
       "      <td>1.28</td>\n",
       "      <td>51039.60</td>\n",
       "      <td>941.48</td>\n",
       "      <td>43838.39</td>\n",
       "      <td>75.78</td>\n",
       "      <td>2015.0</td>\n",
       "      <td>Albany</td>\n",
       "      <td>11</td>\n",
       "      <td>29</td>\n",
       "    </tr>\n",
       "  </tbody>\n",
       "</table>\n",
       "</div>"
      ],
      "text/plain": [
       "    ID  AveragePrice  Total Volume     4046       4225    4770    year  \\\n",
       "0  0.0          1.33      64236.62  1036.74   54454.85   48.16  2015.0   \n",
       "1  1.0          1.35      54876.98   674.28   44638.81   58.33  2015.0   \n",
       "2  2.0          0.93     118220.22   794.70  109149.67  130.50  2015.0   \n",
       "3  3.0          1.08      78992.15  1132.00   71976.41   72.58  2015.0   \n",
       "4  4.0          1.28      51039.60   941.48   43838.39   75.78  2015.0   \n",
       "\n",
       "   region  Month  Day  \n",
       "0  Albany     12   27  \n",
       "1  Albany     12   20  \n",
       "2  Albany     12   13  \n",
       "3  Albany      6   12  \n",
       "4  Albany     11   29  "
      ]
     },
     "execution_count": 29,
     "metadata": {},
     "output_type": "execute_result"
    }
   ],
   "source": [
    "df.head()"
   ]
  },
  {
   "cell_type": "code",
   "execution_count": 30,
   "metadata": {},
   "outputs": [
    {
     "data": {
      "text/plain": [
       "ID                52\n",
       "AveragePrice     113\n",
       "Total Volume    1517\n",
       "4046            1517\n",
       "4225            1517\n",
       "4770            1516\n",
       "year               2\n",
       "region            51\n",
       "Month             12\n",
       "Day               31\n",
       "dtype: int64"
      ]
     },
     "execution_count": 30,
     "metadata": {},
     "output_type": "execute_result"
    }
   ],
   "source": [
    "df.nunique()"
   ]
  },
  {
   "cell_type": "markdown",
   "metadata": {},
   "source": [
    "# Data Visualization"
   ]
  },
  {
   "cell_type": "markdown",
   "metadata": {},
   "source": [
    "# Univariate Analysis"
   ]
  },
  {
   "cell_type": "markdown",
   "metadata": {},
   "source": [
    "### AveragePrice"
   ]
  },
  {
   "cell_type": "code",
   "execution_count": 31,
   "metadata": {},
   "outputs": [
    {
     "data": {
      "image/png": "[encoded data removed]",
      "text/plain": [
       "<Figure size 432x288 with 1 Axes>"
      ]
     },
     "metadata": {
      "needs_background": "light"
     },
     "output_type": "display_data"
    }
   ],
   "source": [
    "sns.distplot(df['AveragePrice'],color='r')\n",
    "plt.title('Average Price')\n",
    "plt.show()"
   ]
  },
  {
   "cell_type": "markdown",
   "metadata": {},
   "source": [
    "### Total Volume"
   ]
  },
  {
   "cell_type": "code",
   "execution_count": 32,
   "metadata": {},
   "outputs": [
    {
     "data": {
      "image/png": "[encoded data removed]",
      "text/plain": [
       "<Figure size 432x288 with 1 Axes>"
      ]
     },
     "metadata": {
      "needs_background": "light"
     },
     "output_type": "display_data"
    }
   ],
   "source": [
    "sns.distplot(df['Total Volume'],color='r')\n",
    "plt.title('Total Volume')\n",
    "plt.show()"
   ]
  },
  {
   "cell_type": "markdown",
   "metadata": {},
   "source": [
    "### 4046"
   ]
  },
  {
   "cell_type": "code",
   "execution_count": 33,
   "metadata": {},
   "outputs": [
    {
     "data": {
      "image/png": "[encoded data removed]",
      "text/plain": [
       "<Figure size 432x288 with 1 Axes>"
      ]
     },
     "metadata": {
      "needs_background": "light"
     },
     "output_type": "display_data"
    }
   ],
   "source": [
    "sns.distplot(df['4046'],color='r')\n",
    "plt.title('4046')\n",
    "plt.show()"
   ]
  },
  {
   "cell_type": "markdown",
   "metadata": {},
   "source": [
    "### 4225"
   ]
  },
  {
   "cell_type": "code",
   "execution_count": 34,
   "metadata": {},
   "outputs": [
    {
     "data": {
      "image/png": "[encoded data removed]",
      "text/plain": [
       "<Figure size 432x288 with 1 Axes>"
      ]
     },
     "metadata": {
      "needs_background": "light"
     },
     "output_type": "display_data"
    }
   ],
   "source": [
    "sns.distplot(df['4225'],color='r')\n",
    "plt.title('4225')\n",
    "plt.show()"
   ]
  },
  {
   "cell_type": "markdown",
   "metadata": {},
   "source": [
    "### 4770"
   ]
  },
  {
   "cell_type": "code",
   "execution_count": 35,
   "metadata": {},
   "outputs": [
    {
     "data": {
      "image/png": "[encoded data removed]",
      "text/plain": [
       "<Figure size 432x288 with 1 Axes>"
      ]
     },
     "metadata": {
      "needs_background": "light"
     },
     "output_type": "display_data"
    }
   ],
   "source": [
    "sns.distplot(df['4770'],color='r')\n",
    "plt.title('4770')\n",
    "plt.show()"
   ]
  },
  {
   "cell_type": "markdown",
   "metadata": {},
   "source": [
    "### year"
   ]
  },
  {
   "cell_type": "code",
   "execution_count": 36,
   "metadata": {},
   "outputs": [
    {
     "data": {
      "image/png": "[encoded data removed]",
      "text/plain": [
       "<Figure size 432x288 with 1 Axes>"
      ]
     },
     "metadata": {
      "needs_background": "light"
     },
     "output_type": "display_data"
    },
    {
     "name": "stdout",
     "output_type": "stream",
     "text": [
      "2015.0    1270\n",
      "2016.0     247\n",
      "Name: year, dtype: int64\n"
     ]
    }
   ],
   "source": [
    "plt.subplots(figsize=(6,4))\n",
    "sns.countplot(x=\"year\",data=df)\n",
    "plt.title(\"year\")\n",
    "plt.show()\n",
    "\n",
    "print(df['year'].value_counts())"
   ]
  },
  {
   "cell_type": "markdown",
   "metadata": {},
   "source": [
    "### region "
   ]
  },
  {
   "cell_type": "code",
   "execution_count": 37,
   "metadata": {},
   "outputs": [
    {
     "data": {
      "image/png": "[encoded data removed]",
      "text/plain": [
       "<Figure size 1152x288 with 1 Axes>"
      ]
     },
     "metadata": {
      "needs_background": "light"
     },
     "output_type": "display_data"
    },
    {
     "name": "stdout",
     "output_type": "stream",
     "text": [
      "California             76\n",
      "Albany                 67\n",
      "BaltimoreWashington    65\n",
      "Boise                  65\n",
      "Boston                 62\n",
      "Atlanta                54\n",
      "PhoenixTucson          52\n",
      "BuffaloRochester       51\n",
      "Spokane                49\n",
      "Columbus               47\n",
      "NewYork                44\n",
      "Jacksonville           41\n",
      "Detroit                40\n",
      "SouthCentral           39\n",
      "SanDiego               38\n",
      "West                   36\n",
      "Tampa                  34\n",
      "Louisville             34\n",
      "Charlotte              31\n",
      "Portland               30\n",
      "Houston                29\n",
      "NorthernNewEngland     29\n",
      "WestTexNewMexico       27\n",
      "Nashville              25\n",
      "TotalUS                25\n",
      "Denver                 24\n",
      "SouthCarolina          24\n",
      "GrandRapids            23\n",
      "Chicago                23\n",
      "Pittsburgh             22\n",
      "RichmondNorfolk        21\n",
      "Orlando                21\n",
      "Syracuse               19\n",
      "HarrisburgScranton     19\n",
      "Midsouth               18\n",
      "GreatLakes             18\n",
      "MiamiFtLauderdale      17\n",
      "DallasFtWorth          17\n",
      "Roanoke                17\n",
      "StLouis                16\n",
      "Indianapolis           16\n",
      "RaleighGreensboro      16\n",
      "SanFrancisco           15\n",
      "Philadelphia           13\n",
      "HartfordSpringfield    13\n",
      "Northeast              12\n",
      "Plains                 12\n",
      "LasVegas               10\n",
      "Southeast               9\n",
      "Seattle                 9\n",
      "LosAngeles              3\n",
      "Name: region, dtype: int64\n"
     ]
    }
   ],
   "source": [
    "plt.subplots(figsize=(16,4))\n",
    "sns.countplot(x=\"region\",data=df)\n",
    "plt.title(\"region\")\n",
    "plt.xticks(rotation='vertical')\n",
    "plt.show()\n",
    "\n",
    "print(df['region'].value_counts())"
   ]
  },
  {
   "cell_type": "markdown",
   "metadata": {},
   "source": [
    "### Month"
   ]
  },
  {
   "cell_type": "code",
   "execution_count": 38,
   "metadata": {},
   "outputs": [
    {
     "data": {
      "image/png": "[encoded data removed]",
      "text/plain": [
       "<Figure size 1152x288 with 1 Axes>"
      ]
     },
     "metadata": {
      "needs_background": "light"
     },
     "output_type": "display_data"
    },
    {
     "name": "stdout",
     "output_type": "stream",
     "text": [
      "5     160\n",
      "3     158\n",
      "8     157\n",
      "1     141\n",
      "12    136\n",
      "6     134\n",
      "11    131\n",
      "4     124\n",
      "2     100\n",
      "10     98\n",
      "9      91\n",
      "7      87\n",
      "Name: Month, dtype: int64\n"
     ]
    }
   ],
   "source": [
    "plt.subplots(figsize=(16,4))\n",
    "sns.countplot(x=\"Month\",data=df)\n",
    "plt.title(\"Month\")\n",
    "plt.show()\n",
    "\n",
    "print(df['Month'].value_counts())"
   ]
  },
  {
   "cell_type": "markdown",
   "metadata": {},
   "source": [
    "### Day"
   ]
  },
  {
   "cell_type": "code",
   "execution_count": 39,
   "metadata": {},
   "outputs": [
    {
     "data": {
      "image/png": "[encoded data removed]",
      "text/plain": [
       "<Figure size 1152x288 with 1 Axes>"
      ]
     },
     "metadata": {
      "needs_background": "light"
     },
     "output_type": "display_data"
    },
    {
     "name": "stdout",
     "output_type": "stream",
     "text": [
      "22    88\n",
      "15    86\n",
      "4     80\n",
      "5     75\n",
      "3     66\n",
      "29    58\n",
      "2     57\n",
      "19    56\n",
      "26    55\n",
      "20    53\n",
      "13    53\n",
      "27    52\n",
      "25    52\n",
      "18    51\n",
      "7     50\n",
      "11    49\n",
      "10    48\n",
      "1     47\n",
      "8     46\n",
      "17    43\n",
      "24    42\n",
      "6     37\n",
      "31    37\n",
      "14    36\n",
      "21    35\n",
      "12    34\n",
      "28    33\n",
      "9     25\n",
      "16    25\n",
      "30    24\n",
      "23    24\n",
      "Name: Day, dtype: int64\n"
     ]
    }
   ],
   "source": [
    "plt.subplots(figsize=(16,4))\n",
    "sns.countplot(x=\"Day\",data=df)\n",
    "plt.title(\"Day\")\n",
    "plt.show()\n",
    "\n",
    "print(df['Day'].value_counts())"
   ]
  },
  {
   "cell_type": "markdown",
   "metadata": {},
   "source": [
    "# Bivariate analysis"
   ]
  },
  {
   "cell_type": "markdown",
   "metadata": {},
   "source": [
    "### Total Volume vs AveragePrice"
   ]
  },
  {
   "cell_type": "code",
   "execution_count": 40,
   "metadata": {},
   "outputs": [
    {
     "data": {
      "text/plain": [
       "<Figure size 576x288 with 0 Axes>"
      ]
     },
     "metadata": {},
     "output_type": "display_data"
    },
    {
     "data": {
      "image/png": "[encoded data removed]",
      "text/plain": [
       "<Figure size 360x360 with 1 Axes>"
      ]
     },
     "metadata": {
      "needs_background": "light"
     },
     "output_type": "display_data"
    }
   ],
   "source": [
    "plt.figure(figsize=(8,4))\n",
    "sns.lmplot(x='Total Volume',y='AveragePrice',fit_reg=False,data=df)\n",
    "plt.show()\n"
   ]
  },
  {
   "cell_type": "markdown",
   "metadata": {},
   "source": [
    "### 4046 vs AveragePrice"
   ]
  },
  {
   "cell_type": "code",
   "execution_count": 41,
   "metadata": {},
   "outputs": [
    {
     "data": {
      "text/plain": [
       "<Figure size 576x288 with 0 Axes>"
      ]
     },
     "metadata": {},
     "output_type": "display_data"
    },
    {
     "data": {
      "image/png": "[encoded data removed]",
      "text/plain": [
       "<Figure size 360x360 with 1 Axes>"
      ]
     },
     "metadata": {
      "needs_background": "light"
     },
     "output_type": "display_data"
    }
   ],
   "source": [
    "plt.figure(figsize=(8,4))\n",
    "sns.lmplot(x='4046',y='AveragePrice',fit_reg=False,data=df)\n",
    "plt.show()"
   ]
  },
  {
   "cell_type": "markdown",
   "metadata": {},
   "source": [
    "### 4225 vs AveragePrice"
   ]
  },
  {
   "cell_type": "code",
   "execution_count": 42,
   "metadata": {},
   "outputs": [
    {
     "data": {
      "text/plain": [
       "<Figure size 576x288 with 0 Axes>"
      ]
     },
     "metadata": {},
     "output_type": "display_data"
    },
    {
     "data": {
      "image/png": "[encoded data removed]",
      "text/plain": [
       "<Figure size 360x360 with 1 Axes>"
      ]
     },
     "metadata": {
      "needs_background": "light"
     },
     "output_type": "display_data"
    }
   ],
   "source": [
    "plt.figure(figsize=(8,4))\n",
    "sns.lmplot(x='4225',y='AveragePrice',fit_reg=False,data=df)\n",
    "plt.show()"
   ]
  },
  {
   "cell_type": "markdown",
   "metadata": {},
   "source": [
    "### 4770 vs AveragePrice"
   ]
  },
  {
   "cell_type": "code",
   "execution_count": 43,
   "metadata": {},
   "outputs": [
    {
     "data": {
      "text/plain": [
       "<Figure size 576x288 with 0 Axes>"
      ]
     },
     "metadata": {},
     "output_type": "display_data"
    },
    {
     "data": {
      "image/png": "[encoded data removed]",
      "text/plain": [
       "<Figure size 360x360 with 1 Axes>"
      ]
     },
     "metadata": {
      "needs_background": "light"
     },
     "output_type": "display_data"
    }
   ],
   "source": [
    "plt.figure(figsize=(8,4))\n",
    "sns.lmplot(x='4770',y='AveragePrice',fit_reg=False,data=df)\n",
    "plt.show()"
   ]
  },
  {
   "cell_type": "markdown",
   "metadata": {},
   "source": [
    "### year vs AveragePrice"
   ]
  },
  {
   "cell_type": "code",
   "execution_count": 44,
   "metadata": {
    "scrolled": true
   },
   "outputs": [
    {
     "data": {
      "text/plain": [
       "<Figure size 576x288 with 0 Axes>"
      ]
     },
     "metadata": {},
     "output_type": "display_data"
    },
    {
     "data": {
      "image/png": "[encoded data removed]",
      "text/plain": [
       "<Figure size 360x360 with 1 Axes>"
      ]
     },
     "metadata": {
      "needs_background": "light"
     },
     "output_type": "display_data"
    }
   ],
   "source": [
    "plt.figure(figsize=(8,4))\n",
    "sns.lmplot(x='AveragePrice',y='year',fit_reg=False,data=df)\n",
    "plt.show()"
   ]
  },
  {
   "cell_type": "code",
   "execution_count": 45,
   "metadata": {},
   "outputs": [
    {
     "data": {
      "image/png": "[encoded data removed]",
      "text/plain": [
       "<Figure size 432x216 with 2 Axes>"
      ]
     },
     "metadata": {
      "needs_background": "light"
     },
     "output_type": "display_data"
    }
   ],
   "source": [
    "facet=sns.FacetGrid(df,col='year')\n",
    "facet.map(sns.distplot,\"AveragePrice\")\n",
    "plt.show()"
   ]
  },
  {
   "cell_type": "markdown",
   "metadata": {},
   "source": [
    "### region vs AveragePrice"
   ]
  },
  {
   "cell_type": "code",
   "execution_count": 46,
   "metadata": {},
   "outputs": [
    {
     "data": {
      "text/plain": [
       "<AxesSubplot:xlabel='region', ylabel='AveragePrice'>"
      ]
     },
     "execution_count": 46,
     "metadata": {},
     "output_type": "execute_result"
    },
    {
     "data": {
      "image/png": "[encoded data removed]",
      "text/plain": [
       "<Figure size 1296x720 with 1 Axes>"
      ]
     },
     "metadata": {
      "needs_background": "light"
     },
     "output_type": "display_data"
    }
   ],
   "source": [
    "plt.figure(figsize=(18,10))\n",
    "plt.xticks(rotation='vertical')\n",
    "sns.boxplot(x='region',y='AveragePrice',data=df)"
   ]
  },
  {
   "cell_type": "markdown",
   "metadata": {},
   "source": [
    "### Month vs AveragePrice"
   ]
  },
  {
   "cell_type": "code",
   "execution_count": 47,
   "metadata": {},
   "outputs": [
    {
     "data": {
      "text/plain": [
       "<AxesSubplot:xlabel='Month', ylabel='AveragePrice'>"
      ]
     },
     "execution_count": 47,
     "metadata": {},
     "output_type": "execute_result"
    },
    {
     "data": {
      "image/png": "[encoded data removed]",
      "text/plain": [
       "<Figure size 1296x720 with 1 Axes>"
      ]
     },
     "metadata": {
      "needs_background": "light"
     },
     "output_type": "display_data"
    }
   ],
   "source": [
    "plt.figure(figsize=(18,10))\n",
    "plt.xticks(rotation='vertical')\n",
    "sns.boxplot(x='Month',y='AveragePrice',data=df)"
   ]
  },
  {
   "cell_type": "markdown",
   "metadata": {},
   "source": [
    "### Day vs AveragePrice"
   ]
  },
  {
   "cell_type": "code",
   "execution_count": 48,
   "metadata": {},
   "outputs": [
    {
     "data": {
      "text/plain": [
       "<AxesSubplot:xlabel='Day', ylabel='AveragePrice'>"
      ]
     },
     "execution_count": 48,
     "metadata": {},
     "output_type": "execute_result"
    },
    {
     "data": {
      "image/png": "[encoded data removed]",
      "text/plain": [
       "<Figure size 1296x720 with 1 Axes>"
      ]
     },
     "metadata": {
      "needs_background": "light"
     },
     "output_type": "display_data"
    }
   ],
   "source": [
    "plt.figure(figsize=(18,10))\n",
    "sns.boxplot(x='Day',y='AveragePrice',data=df)"
   ]
  },
  {
   "cell_type": "markdown",
   "metadata": {},
   "source": [
    "# Change to Numeric"
   ]
  },
  {
   "cell_type": "code",
   "execution_count": 82,
   "metadata": {},
   "outputs": [],
   "source": [
    "from sklearn.preprocessing import LabelEncoder\n",
    "    \n",
    "le=LabelEncoder()\n",
    "    \n",
    "for column in df.columns:\n",
    "    if df[column].dtype==np.number:\n",
    "        continue\n",
    "    df[column]=le.fit_transform(df[column]) "
   ]
  },
  {
   "cell_type": "code",
   "execution_count": 83,
   "metadata": {
    "scrolled": true
   },
   "outputs": [],
   "source": [
    "#from sklearn.compose import make_column_transformer\n",
    "#from sklearn.preprocessing import StandardScaler\n",
    "#from sklearn.preprocessing import OneHotEncoder\n",
    "#scale_cols=df.drop(['AveragePrice','region'],axis=1)\n",
    "#col_trans=make_column_transformer((OneHotEncoder(),df[column].columns),(StandardScaler(),scale_cols.columns),remainder='passthrough')"
   ]
  },
  {
   "cell_type": "code",
   "execution_count": 84,
   "metadata": {},
   "outputs": [
    {
     "data": {
      "text/plain": [
       "Index(['ID', 'AveragePrice', 'Total Volume', '4046', '4225', '4770', 'year',\n",
       "       'region', 'Month', 'Day'],\n",
       "      dtype='object')"
      ]
     },
     "execution_count": 84,
     "metadata": {},
     "output_type": "execute_result"
    }
   ],
   "source": [
    "df.columns"
   ]
  },
  {
   "cell_type": "code",
   "execution_count": 85,
   "metadata": {},
   "outputs": [
    {
     "data": {
      "text/plain": [
       "ID              float64\n",
       "AveragePrice    float64\n",
       "Total Volume    float64\n",
       "4046            float64\n",
       "4225            float64\n",
       "4770            float64\n",
       "year            float64\n",
       "region            int64\n",
       "Month             int64\n",
       "Day               int64\n",
       "dtype: object"
      ]
     },
     "execution_count": 85,
     "metadata": {},
     "output_type": "execute_result"
    }
   ],
   "source": [
    "df.dtypes"
   ]
  },
  {
   "cell_type": "markdown",
   "metadata": {},
   "source": [
    "# Checking skewness"
   ]
  },
  {
   "cell_type": "code",
   "execution_count": 86,
   "metadata": {},
   "outputs": [
    {
     "data": {
      "image/png": "[encoded data removed]",
      "text/plain": [
       "<Figure size 432x288 with 1 Axes>"
      ]
     },
     "metadata": {
      "needs_background": "light"
     },
     "output_type": "display_data"
    },
    {
     "data": {
      "image/png": "[encoded data removed]",
      "text/plain": [
       "<Figure size 432x288 with 1 Axes>"
      ]
     },
     "metadata": {
      "needs_background": "light"
     },
     "output_type": "display_data"
    },
    {
     "data": {
      "image/png": "[encoded data removed]",
      "text/plain": [
       "<Figure size 432x288 with 1 Axes>"
      ]
     },
     "metadata": {
      "needs_background": "light"
     },
     "output_type": "display_data"
    },
    {
     "data": {
      "image/png": "[encoded data removed]",
      "text/plain": [
       "<Figure size 432x288 with 1 Axes>"
      ]
     },
     "metadata": {
      "needs_background": "light"
     },
     "output_type": "display_data"
    },
    {
     "data": {
      "image/png": "[encoded data removed]",
      "text/plain": [
       "<Figure size 432x288 with 1 Axes>"
      ]
     },
     "metadata": {
      "needs_background": "light"
     },
     "output_type": "display_data"
    },
    {
     "data": {
      "image/png": "[encoded data removed]",
      "text/plain": [
       "<Figure size 432x288 with 1 Axes>"
      ]
     },
     "metadata": {
      "needs_background": "light"
     },
     "output_type": "display_data"
    },
    {
     "data": {
      "image/png": "[encoded data removed]",
      "text/plain": [
       "<Figure size 432x288 with 1 Axes>"
      ]
     },
     "metadata": {
      "needs_background": "light"
     },
     "output_type": "display_data"
    },
    {
     "data": {
      "image/png": "[encoded data removed]",
      "text/plain": [
       "<Figure size 432x288 with 1 Axes>"
      ]
     },
     "metadata": {
      "needs_background": "light"
     },
     "output_type": "display_data"
    },
    {
     "data": {
      "image/png": "[encoded data removed]",
      "text/plain": [
       "<Figure size 432x288 with 1 Axes>"
      ]
     },
     "metadata": {
      "needs_background": "light"
     },
     "output_type": "display_data"
    },
    {
     "data": {
      "image/png": "[encoded data removed]",
      "text/plain": [
       "<Figure size 432x288 with 1 Axes>"
      ]
     },
     "metadata": {
      "needs_background": "light"
     },
     "output_type": "display_data"
    }
   ],
   "source": [
    "for col in df.describe().columns:           #We have used df.describe() because we want the skewness only for numeric\n",
    "    sns.distplot(df[col],color='r')\n",
    "    plt.show()"
   ]
  },
  {
   "cell_type": "markdown",
   "metadata": {},
   "source": [
    "# Remove Outliers"
   ]
  },
  {
   "cell_type": "markdown",
   "metadata": {},
   "source": [
    "### z-score"
   ]
  },
  {
   "cell_type": "code",
   "execution_count": 87,
   "metadata": {},
   "outputs": [
    {
     "name": "stdout",
     "output_type": "stream",
     "text": [
      "(1517, 10)\n",
      "(1487, 10)\n"
     ]
    }
   ],
   "source": [
    "from scipy.stats import zscore\n",
    "import numpy as np\n",
    "z=np.abs(zscore(df))\n",
    "threshold=3\n",
    "df_new=df[(z<3).all(axis=1)]\n",
    "print(df.shape)\n",
    "print(df_new.shape)"
   ]
  },
  {
   "cell_type": "markdown",
   "metadata": {},
   "source": [
    "# IQR"
   ]
  },
  {
   "cell_type": "code",
   "execution_count": 88,
   "metadata": {},
   "outputs": [
    {
     "name": "stdout",
     "output_type": "stream",
     "text": [
      "ID                  25.00\n",
      "AveragePrice         0.21\n",
      "Total Volume    834505.09\n",
      "4046            357178.14\n",
      "4225            443674.28\n",
      "4770             28256.05\n",
      "year                 0.00\n",
      "region              29.00\n",
      "Month                6.00\n",
      "Day                 15.00\n",
      "dtype: float64\n",
      "(990, 10)\n"
     ]
    }
   ],
   "source": [
    "q1=df.quantile(0.25)\n",
    "q3=df.quantile(0.75)\n",
    "IQR=q3-q1\n",
    "print(IQR)\n",
    "df_new1=df[~((df<(q1-1.5*IQR))|(df>(q3+1.5*IQR))).any(axis=1)]\n",
    "print(df_new1.shape)"
   ]
  },
  {
   "cell_type": "markdown",
   "metadata": {},
   "source": [
    "# Percentage Loss"
   ]
  },
  {
   "cell_type": "code",
   "execution_count": 89,
   "metadata": {},
   "outputs": [
    {
     "name": "stdout",
     "output_type": "stream",
     "text": [
      "1.977587343441002\n",
      "34.73961766644694\n"
     ]
    }
   ],
   "source": [
    "#z-score\n",
    "percentage_loss_z=(30/1517)*100\n",
    "print(percentage_loss_z)\n",
    "\n",
    "#IQR\n",
    "percentage_loss_IQR=(527/1517)*100\n",
    "print(percentage_loss_IQR)"
   ]
  },
  {
   "cell_type": "markdown",
   "metadata": {},
   "source": [
    "# Split the data into training and testing set"
   ]
  },
  {
   "cell_type": "code",
   "execution_count": 90,
   "metadata": {},
   "outputs": [],
   "source": [
    "x=df_new.drop('AveragePrice',axis=1)\n",
    "y=df_new['AveragePrice']"
   ]
  },
  {
   "cell_type": "markdown",
   "metadata": {},
   "source": [
    "# Removing skewness"
   ]
  },
  {
   "cell_type": "code",
   "execution_count": 91,
   "metadata": {},
   "outputs": [],
   "source": [
    "from sklearn.preprocessing import power_transform     #box-cox is only for positive but yeo-johnson is for both negative and positive\n",
    "x=power_transform(x,method='yeo-johnson')"
   ]
  },
  {
   "cell_type": "markdown",
   "metadata": {},
   "source": [
    "# spliting the data into training and testing set"
   ]
  },
  {
   "cell_type": "code",
   "execution_count": 92,
   "metadata": {},
   "outputs": [],
   "source": [
    "from sklearn.model_selection import train_test_split\n",
    "x_train,x_test,y_train,y_test=train_test_split(x,y,test_size=.20,random_state=42)"
   ]
  },
  {
   "cell_type": "markdown",
   "metadata": {},
   "source": [
    "# Importing all the model Library"
   ]
  },
  {
   "cell_type": "code",
   "execution_count": 93,
   "metadata": {},
   "outputs": [],
   "source": [
    "# Libraries for data modelling\n",
    "from sklearn.linear_model import LogisticRegression,Ridge,Lasso,LinearRegression,ElasticNet\n",
    "from sklearn.tree import DecisionTreeRegressor\n",
    "from sklearn.neighbors import KNeighborsRegressor\n",
    "from sklearn.naive_bayes import GaussianNB\n",
    "from sklearn.svm import SVR,SVC\n",
    "\n",
    "#Importinf boosting models\n",
    "from sklearn.ensemble import RandomForestRegressor,AdaBoostRegressor,GradientBoostingRegressor,BaggingRegressor,ExtraTreesRegressor\n",
    "\n",
    "#Importing error metrics\n",
    "from sklearn.metrics import mean_absolute_error,mean_squared_error,r2_score\n",
    "from sklearn.model_selection import GridSearchCV,cross_val_score"
   ]
  },
  {
   "cell_type": "markdown",
   "metadata": {},
   "source": [
    "# All algorithms by using for loop"
   ]
  },
  {
   "cell_type": "code",
   "execution_count": 94,
   "metadata": {},
   "outputs": [
    {
     "name": "stdout",
     "output_type": "stream",
     "text": [
      "\u001b[1mR2 score of Lasso() is : \u001b[0m\n",
      "-0.002700101752157291\n",
      "Training r2_score is : 0.0\n",
      "Testing r2_score is : -0.2700101752157291\n",
      "Mean Absolute Eror :  0.1415987999616168\n",
      "Mean Squared Eror :  0.034504464842267435\n",
      "Root Mean Squared Eror :  0.1857537747725936\n",
      "*******************************************************************\n",
      "\n",
      "\n",
      "\u001b[1mR2 score of Ridge() is : \u001b[0m\n",
      "0.314036312443166\n",
      "Training r2_score is : 31.872186732359474\n",
      "Testing r2_score is : 31.4036312443166\n",
      "Mean Absolute Eror :  0.1174953148557004\n",
      "Mean Squared Eror :  0.023605073839144033\n",
      "Root Mean Squared Eror :  0.15363942800968777\n",
      "*******************************************************************\n",
      "\n",
      "\n",
      "\u001b[1mR2 score of DecisionTreeRegressor() is : \u001b[0m\n",
      "0.691954139740873\n",
      "Training r2_score is : 100.0\n",
      "Testing r2_score is : 69.1954139740873\n",
      "Mean Absolute Eror :  0.07164429530201341\n",
      "Mean Squared Eror :  0.010600335570469795\n",
      "Root Mean Squared Eror :  0.102957931071238\n",
      "*******************************************************************\n",
      "\n",
      "\n",
      "\u001b[1mR2 score of KNeighborsRegressor() is : \u001b[0m\n",
      "0.7012701159105127\n",
      "Training r2_score is : 78.82575455209988\n",
      "Testing r2_score is : 70.12701159105127\n",
      "Mean Absolute Eror :  0.07857718120805368\n",
      "Mean Squared Eror :  0.010279758389261744\n",
      "Root Mean Squared Eror :  0.10138914335007346\n",
      "*******************************************************************\n",
      "\n",
      "\n",
      "\u001b[1mR2 score of RandomForestRegressor() is : \u001b[0m\n",
      "0.8361951817728116\n",
      "Training r2_score is : 97.40968524840409\n",
      "Testing r2_score is : 83.61951817728117\n",
      "Mean Absolute Eror :  0.05641744966442957\n",
      "Mean Squared Eror :  0.005636777718120811\n",
      "Root Mean Squared Eror :  0.07507847706314248\n",
      "*******************************************************************\n",
      "\n",
      "\n",
      "\u001b[1mR2 score of AdaBoostRegressor() is : \u001b[0m\n",
      "0.6119932604714486\n",
      "Training r2_score is : 62.69968116065245\n",
      "Testing r2_score is : 61.199326047144865\n",
      "Mean Absolute Eror :  0.09267040121042827\n",
      "Mean Squared Eror :  0.013351913377919347\n",
      "Root Mean Squared Eror :  0.11555047978229838\n",
      "*******************************************************************\n",
      "\n",
      "\n",
      "\u001b[1mR2 score of GradientBoostingRegressor() is : \u001b[0m\n",
      "0.7263986495591169\n",
      "Training r2_score is : 82.34263554392119\n",
      "Testing r2_score is : 72.63986495591169\n",
      "Mean Absolute Eror :  0.07356878094568951\n",
      "Mean Squared Eror :  0.009415046593281183\n",
      "Root Mean Squared Eror :  0.09703116300076581\n",
      "*******************************************************************\n",
      "\n",
      "\n",
      "\u001b[1mR2 score of BaggingRegressor() is : \u001b[0m\n",
      "0.8190681830029308\n",
      "Training r2_score is : 96.07664117486992\n",
      "Testing r2_score is : 81.90681830029308\n",
      "Mean Absolute Eror :  0.058989932885906045\n",
      "Mean Squared Eror :  0.0062261442953020114\n",
      "Root Mean Squared Eror :  0.07890592053389918\n",
      "*******************************************************************\n",
      "\n",
      "\n",
      "\u001b[1mR2 score of ExtraTreesRegressor() is : \u001b[0m\n",
      "0.8816017656826094\n",
      "Training r2_score is : 100.0\n",
      "Testing r2_score is : 88.16017656826094\n",
      "Mean Absolute Eror :  0.04853020134228194\n",
      "Mean Squared Eror :  0.0040742667785235\n",
      "Root Mean Squared Eror :  0.06382998338182065\n",
      "*******************************************************************\n",
      "\n",
      "\n",
      "\u001b[1mR2 score of LinearRegression() is : \u001b[0m\n",
      "0.31405425973319234\n",
      "Training r2_score is : 31.872226796297177\n",
      "Testing r2_score is : 31.405425973319232\n",
      "Mean Absolute Eror :  0.11749594247622425\n",
      "Mean Squared Eror :  0.023604456245073135\n",
      "Root Mean Squared Eror :  0.15363741811509699\n",
      "*******************************************************************\n",
      "\n",
      "\n",
      "\u001b[1mR2 score of SVR() is : \u001b[0m\n",
      "0.6902969949351738\n",
      "Training r2_score is : 77.35589052025232\n",
      "Testing r2_score is : 69.02969949351738\n",
      "Mean Absolute Eror :  0.08197054410088687\n",
      "Mean Squared Eror :  0.010657360492065868\n",
      "Root Mean Squared Eror :  0.10323449274378146\n",
      "*******************************************************************\n",
      "\n",
      "\n",
      "\u001b[1mR2 score of ElasticNet() is : \u001b[0m\n",
      "-0.002700101752157291\n",
      "Training r2_score is : 0.0\n",
      "Testing r2_score is : -0.2700101752157291\n",
      "Mean Absolute Eror :  0.1415987999616168\n",
      "Mean Squared Eror :  0.034504464842267435\n",
      "Root Mean Squared Eror :  0.1857537747725936\n",
      "*******************************************************************\n",
      "\n",
      "\n",
      "\u001b[1mR2 score of RandomForestRegressor() is : \u001b[0m\n",
      "0.8315348308556152\n",
      "Training r2_score is : 97.52409475802737\n",
      "Testing r2_score is : 83.15348308556152\n",
      "Mean Absolute Eror :  0.05691241610738261\n",
      "Mean Squared Eror :  0.005797147617449675\n",
      "Root Mean Squared Eror :  0.07613900194676625\n",
      "*******************************************************************\n",
      "\n",
      "\n"
     ]
    }
   ],
   "source": [
    "model=[Lasso(),Ridge(),DecisionTreeRegressor(),KNeighborsRegressor(),RandomForestRegressor(),AdaBoostRegressor(),GradientBoostingRegressor(),BaggingRegressor(),ExtraTreesRegressor(),LinearRegression(),SVR(),ElasticNet(),RandomForestRegressor()]\n",
    "\n",
    "for m in model:\n",
    "    m.fit(x_train,y_train)\n",
    "    m.score(x_train,y_train)\n",
    "    predm=m.predict(x_test)\n",
    "    pred_train=m.predict(x_train)\n",
    "    pred_test=m.predict(x_test)\n",
    "    print(\"\\033[1m\"+ 'R2 score of',m,'is : ' + \"\\033[0m\" )  # Make the line bold\n",
    "    print(r2_score(y_test,predm))\n",
    "    print(\"Training r2_score is :\",r2_score(y_train,pred_train)*100)\n",
    "    print(\"Testing r2_score is :\",r2_score(y_test,pred_test)*100)\n",
    "    print(\"Mean Absolute Eror : \",mean_absolute_error(y_test,predm))\n",
    "    print(\"Mean Squared Eror : \",mean_squared_error(y_test,predm))\n",
    "    print(\"Root Mean Squared Eror : \",np.sqrt(mean_squared_error(y_test,predm)))\n",
    "    print('*******************************************************************')\n",
    "    print('\\n')"
   ]
  },
  {
   "cell_type": "markdown",
   "metadata": {},
   "source": [
    "# Cross validate all algorithm by using loop"
   ]
  },
  {
   "cell_type": "code",
   "execution_count": 95,
   "metadata": {},
   "outputs": [
    {
     "name": "stdout",
     "output_type": "stream",
     "text": [
      "Model :  Lasso()\n",
      "Mean Score :  -0.19247630416123976\n",
      "Standard deviation :  0.136964804502024\n",
      "*******************************************************************\n",
      "\n",
      "\n",
      "Model :  Ridge()\n",
      "Mean Score :  0.01555970572613168\n",
      "Standard deviation :  0.19876164826213166\n",
      "*******************************************************************\n",
      "\n",
      "\n",
      "Model :  DecisionTreeRegressor()\n",
      "Mean Score :  -0.6794524759431436\n",
      "Standard deviation :  0.8482413612963401\n",
      "*******************************************************************\n",
      "\n",
      "\n",
      "Model :  KNeighborsRegressor()\n",
      "Mean Score :  0.0511077521993671\n",
      "Standard deviation :  0.3187153312334326\n",
      "*******************************************************************\n",
      "\n",
      "\n",
      "Model :  RandomForestRegressor()\n",
      "Mean Score :  -0.011447736807893672\n",
      "Standard deviation :  0.3973379616095571\n",
      "*******************************************************************\n",
      "\n",
      "\n",
      "Model :  AdaBoostRegressor()\n",
      "Mean Score :  0.1690329098000313\n",
      "Standard deviation :  0.2019307051146366\n",
      "*******************************************************************\n",
      "\n",
      "\n",
      "Model :  GradientBoostingRegressor()\n",
      "Mean Score :  0.08109238691985216\n",
      "Standard deviation :  0.34978526781192637\n",
      "*******************************************************************\n",
      "\n",
      "\n",
      "Model :  BaggingRegressor()\n",
      "Mean Score :  -0.03467335558057357\n",
      "Standard deviation :  0.4168033478693937\n",
      "*******************************************************************\n",
      "\n",
      "\n",
      "Model :  ExtraTreesRegressor()\n",
      "Mean Score :  0.16650429651841064\n",
      "Standard deviation :  0.32514960861354714\n",
      "*******************************************************************\n",
      "\n",
      "\n",
      "Model :  LinearRegression()\n",
      "Mean Score :  0.015314046086819022\n",
      "Standard deviation :  0.19901408480995605\n",
      "*******************************************************************\n",
      "\n",
      "\n",
      "Model :  SVR()\n",
      "Mean Score :  0.13224069141062383\n",
      "Standard deviation :  0.32750514532237296\n",
      "*******************************************************************\n",
      "\n",
      "\n",
      "Model :  ElasticNet()\n",
      "Mean Score :  -0.19247630416123976\n",
      "Standard deviation :  0.136964804502024\n",
      "*******************************************************************\n",
      "\n",
      "\n",
      "Model :  RandomForestRegressor()\n",
      "Mean Score :  -0.057348985277358835\n",
      "Standard deviation :  0.4511150839918045\n",
      "*******************************************************************\n",
      "\n",
      "\n"
     ]
    }
   ],
   "source": [
    "model=[Lasso(),Ridge(),DecisionTreeRegressor(),KNeighborsRegressor(),RandomForestRegressor(),AdaBoostRegressor(),GradientBoostingRegressor(),BaggingRegressor(),ExtraTreesRegressor(),LinearRegression(),SVR(),ElasticNet(),RandomForestRegressor()]\n",
    "for m in model:\n",
    "    score=cross_val_score(m,x,y,cv=10,scoring='r2')\n",
    "    print(\"Model : \",m)\n",
    "    print(\"Mean Score : \",score.mean())\n",
    "    print(\"Standard deviation : \",score.std())\n",
    "    print('*******************************************************************')\n",
    "    print('\\n')"
   ]
  },
  {
   "cell_type": "markdown",
   "metadata": {},
   "source": [
    "### ExtraTreesRegressor() giving best score and r2 score so I choose it as my final model"
   ]
  },
  {
   "cell_type": "markdown",
   "metadata": {},
   "source": [
    "# Using GridSearchCV to find the best parameter"
   ]
  },
  {
   "cell_type": "code",
   "execution_count": 96,
   "metadata": {},
   "outputs": [
    {
     "name": "stdout",
     "output_type": "stream",
     "text": [
      "{'n_estimators': 400, 'random_state': 400}\n"
     ]
    }
   ],
   "source": [
    "parameters={'n_estimators':[400,500,600,700],'random_state':[100,200,300,400]}\n",
    "ETR=ExtraTreesRegressor()\n",
    "\n",
    "clf=GridSearchCV(ETR,parameters)\n",
    "clf.fit(x,y)\n",
    "print(clf.best_params_)"
   ]
  },
  {
   "cell_type": "markdown",
   "metadata": {},
   "source": [
    "# Using ExtraTreesRegressor() with its best parameter"
   ]
  },
  {
   "cell_type": "code",
   "execution_count": 97,
   "metadata": {},
   "outputs": [
    {
     "name": "stdout",
     "output_type": "stream",
     "text": [
      "\n",
      "\n",
      "Mean Absolute Eror :  0.04816812080536917\n",
      "Mean Squared Eror :  0.003964906581375861\n",
      "Root Mean Squared Eror :  0.06296750416981653\n",
      "\n",
      "\n",
      "0.8847797741319172\n"
     ]
    }
   ],
   "source": [
    "ETR=ExtraTreesRegressor(n_estimators=400,random_state=400)\n",
    "ETR.fit(x_train,y_train)\n",
    "ETR.score(x_train,y_train)\n",
    "predETR=ETR.predict(x_test)\n",
    "print('\\n')\n",
    "\n",
    "print(\"Mean Absolute Eror : \",mean_absolute_error(y_test,predETR))\n",
    "print(\"Mean Squared Eror : \",mean_squared_error(y_test,predETR))\n",
    "print(\"Root Mean Squared Eror : \",np.sqrt(mean_squared_error(y_test,predETR)))\n",
    "\n",
    "print('\\n')\n",
    "print(r2_score(y_test,predETR))"
   ]
  },
  {
   "cell_type": "markdown",
   "metadata": {},
   "source": [
    "Now our r2 score is increased\n",
    "\n",
    "Before Hyperparameter tuning ------ r2_score is : 0.8780266306177331\n",
    "    \n",
    "After Hyperparameter tuning ------ r2_score is : 0.8847797741319172"
   ]
  },
  {
   "cell_type": "markdown",
   "metadata": {},
   "source": [
    "# Plotting the distribution plot and we find the Gaussian plot"
   ]
  },
  {
   "cell_type": "code",
   "execution_count": 98,
   "metadata": {},
   "outputs": [
    {
     "data": {
      "image/png": "[encoded data removed]",
      "text/plain": [
       "<Figure size 432x288 with 1 Axes>"
      ]
     },
     "metadata": {
      "needs_background": "light"
     },
     "output_type": "display_data"
    }
   ],
   "source": [
    "sns.distplot(y_test-predETR)\n",
    "plt.show()"
   ]
  },
  {
   "cell_type": "markdown",
   "metadata": {},
   "source": [
    "# Scatter plot between test data and prediction"
   ]
  },
  {
   "cell_type": "code",
   "execution_count": 99,
   "metadata": {},
   "outputs": [
    {
     "data": {
      "image/png": "[encoded data removed]",
      "text/plain": [
       "<Figure size 432x288 with 1 Axes>"
      ]
     },
     "metadata": {
      "needs_background": "light"
     },
     "output_type": "display_data"
    }
   ],
   "source": [
    "plt.scatter(y_test,predETR,alpha=0.5)\n",
    "plt.xlabel(\"Y_test\")\n",
    "plt.ylabel(\"Y_pred\")\n",
    "plt.title(\"Scatter plot between test data and predicted data\",fontsize=15)\n",
    "plt.show()"
   ]
  },
  {
   "cell_type": "markdown",
   "metadata": {},
   "source": [
    "# Saving the model"
   ]
  },
  {
   "cell_type": "markdown",
   "metadata": {},
   "source": [
    "# Import joblib"
   ]
  },
  {
   "cell_type": "code",
   "execution_count": 100,
   "metadata": {},
   "outputs": [],
   "source": [
    "import joblib"
   ]
  },
  {
   "cell_type": "markdown",
   "metadata": {},
   "source": [
    "# Save the model as a pickle in a file"
   ]
  },
  {
   "cell_type": "code",
   "execution_count": 101,
   "metadata": {},
   "outputs": [
    {
     "data": {
      "text/plain": [
       "['Avocado_Prediction.pkl']"
      ]
     },
     "execution_count": 101,
     "metadata": {},
     "output_type": "execute_result"
    }
   ],
   "source": [
    "joblib.dump(ETR,'Avocado_Prediction.pkl')"
   ]
  },
  {
   "cell_type": "markdown",
   "metadata": {},
   "source": [
    "# Predict the city(Classification Problem)"
   ]
  },
  {
   "cell_type": "markdown",
   "metadata": {},
   "source": [
    "### Split the data into training and testing set"
   ]
  },
  {
   "cell_type": "code",
   "execution_count": 102,
   "metadata": {},
   "outputs": [],
   "source": [
    "X=df_new.drop('region',axis=1)\n",
    "Y=df_new['region']"
   ]
  },
  {
   "cell_type": "markdown",
   "metadata": {},
   "source": [
    "# Removing skewness"
   ]
  },
  {
   "cell_type": "code",
   "execution_count": 103,
   "metadata": {},
   "outputs": [],
   "source": [
    "from sklearn.preprocessing import power_transform     #box-cox is only for positive but yeo-johnson is for both negative and positive\n",
    "X=power_transform(X,method='yeo-johnson')"
   ]
  },
  {
   "cell_type": "markdown",
   "metadata": {},
   "source": [
    "### spliting the data into training and testing set"
   ]
  },
  {
   "cell_type": "code",
   "execution_count": 104,
   "metadata": {},
   "outputs": [],
   "source": [
    "from sklearn.model_selection import train_test_split\n",
    "X_train,X_test,Y_train,Y_test=train_test_split(X,Y,test_size=.20,random_state=42)"
   ]
  },
  {
   "cell_type": "markdown",
   "metadata": {},
   "source": [
    "### Scaling in input variables"
   ]
  },
  {
   "cell_type": "code",
   "execution_count": 105,
   "metadata": {},
   "outputs": [],
   "source": [
    "from sklearn.preprocessing import StandardScaler\n",
    "ss=StandardScaler()\n",
    "X=ss.fit_transform(X)"
   ]
  },
  {
   "cell_type": "markdown",
   "metadata": {},
   "source": [
    "# Importing all the model Library"
   ]
  },
  {
   "cell_type": "code",
   "execution_count": 106,
   "metadata": {},
   "outputs": [],
   "source": [
    "# Libraries for data modelling\n",
    "from sklearn.linear_model import LogisticRegression\n",
    "from sklearn.tree import DecisionTreeClassifier\n",
    "from sklearn.neighbors import KNeighborsClassifier\n",
    "from sklearn.naive_bayes import GaussianNB\n",
    "from sklearn.svm import SVC\n",
    "\n",
    "#Importinf boosting models\n",
    "from sklearn.ensemble import RandomForestClassifier,AdaBoostClassifier,GradientBoostingClassifier,BaggingClassifier,ExtraTreesClassifier\n",
    "\n",
    "#Importing error metrics\n",
    "from sklearn.metrics import accuracy_score,confusion_matrix,classification_report,roc_curve,auc\n",
    "from sklearn.model_selection import GridSearchCV,cross_val_score"
   ]
  },
  {
   "cell_type": "markdown",
   "metadata": {},
   "source": [
    "# All algorithms by using for loop"
   ]
  },
  {
   "cell_type": "code",
   "execution_count": 107,
   "metadata": {},
   "outputs": [
    {
     "name": "stdout",
     "output_type": "stream",
     "text": [
      "\u001b[1maccuracy_score of LogisticRegression() is : \u001b[0m\n",
      "0.7684563758389261\n",
      "confusion_matrix :  [[ 7  0  0 ...  0  0  0]\n",
      " [ 0 12  0 ...  1  0  0]\n",
      " [ 0  0 10 ...  0  0  0]\n",
      " ...\n",
      " [ 0  2  0 ...  4  0  0]\n",
      " [ 0  0  0 ...  0  8  0]\n",
      " [ 0  0  0 ...  0  0  3]]\n",
      "classification_report :                precision    recall  f1-score   support\n",
      "\n",
      "           0       0.78      0.54      0.64        13\n",
      "           1       0.75      0.92      0.83        13\n",
      "           2       0.77      0.77      0.77        13\n",
      "           3       1.00      1.00      1.00        10\n",
      "           4       0.89      1.00      0.94         8\n",
      "           5       0.67      0.89      0.76         9\n",
      "           6       0.95      1.00      0.97        18\n",
      "           7       1.00      0.88      0.93         8\n",
      "           8       0.75      0.86      0.80         7\n",
      "           9       0.69      1.00      0.82         9\n",
      "          10       0.67      0.40      0.50         5\n",
      "          11       0.80      1.00      0.89         4\n",
      "          12       1.00      0.92      0.96        12\n",
      "          13       0.25      1.00      0.40         2\n",
      "          14       1.00      1.00      1.00         2\n",
      "          15       1.00      0.50      0.67         8\n",
      "          16       0.50      1.00      0.67         1\n",
      "          17       0.75      0.75      0.75         4\n",
      "          18       0.00      0.00      0.00         6\n",
      "          19       0.67      0.86      0.75         7\n",
      "          20       0.00      0.00      0.00         0\n",
      "          21       0.00      0.00      0.00         1\n",
      "          22       1.00      0.75      0.86         8\n",
      "          23       1.00      0.67      0.80         6\n",
      "          24       1.00      1.00      1.00         6\n",
      "          25       0.80      0.80      0.80         5\n",
      "          26       1.00      1.00      1.00         7\n",
      "          28       1.00      0.83      0.91         6\n",
      "          29       1.00      0.50      0.67         4\n",
      "          30       0.75      1.00      0.86         3\n",
      "          31       0.56      0.83      0.67         6\n",
      "          32       0.67      1.00      0.80         2\n",
      "          33       0.75      1.00      0.86         3\n",
      "          34       0.30      0.50      0.37         6\n",
      "          35       0.50      1.00      0.67         1\n",
      "          36       1.00      0.14      0.25         7\n",
      "          37       1.00      1.00      1.00         2\n",
      "          38       0.50      0.44      0.47         9\n",
      "          39       1.00      0.33      0.50         3\n",
      "          40       1.00      0.33      0.50         3\n",
      "          41       0.50      1.00      0.67         3\n",
      "          42       0.86      1.00      0.92         6\n",
      "          43       1.00      0.33      0.50         3\n",
      "          44       1.00      0.77      0.87        13\n",
      "          45       0.25      1.00      0.40         1\n",
      "          46       0.60      1.00      0.75         3\n",
      "          47       0.67      0.57      0.62         7\n",
      "          49       1.00      0.80      0.89        10\n",
      "          50       0.60      0.60      0.60         5\n",
      "\n",
      "    accuracy                           0.77       298\n",
      "   macro avg       0.74      0.74      0.70       298\n",
      "weighted avg       0.81      0.77      0.76       298\n",
      "\n",
      "*******************************************************************\n",
      "\n",
      "\n",
      "\u001b[1maccuracy_score of DecisionTreeClassifier() is : \u001b[0m\n",
      "0.8523489932885906\n",
      "confusion_matrix :  [[ 9  0  0 ...  0  0  0]\n",
      " [ 0 13  0 ...  0  0  0]\n",
      " [ 0  0 13 ...  0  0  0]\n",
      " ...\n",
      " [ 0  2  0 ...  4  0  0]\n",
      " [ 0  0  0 ...  0 10  0]\n",
      " [ 0  0  0 ...  0  0  5]]\n",
      "classification_report :                precision    recall  f1-score   support\n",
      "\n",
      "           0       0.90      0.69      0.78        13\n",
      "           1       0.76      1.00      0.87        13\n",
      "           2       1.00      1.00      1.00        13\n",
      "           3       0.73      0.80      0.76        10\n",
      "           4       0.67      1.00      0.80         8\n",
      "           5       0.73      0.89      0.80         9\n",
      "           6       0.94      0.89      0.91        18\n",
      "           7       1.00      1.00      1.00         8\n",
      "           8       1.00      1.00      1.00         7\n",
      "           9       0.82      1.00      0.90         9\n",
      "          10       1.00      0.80      0.89         5\n",
      "          11       1.00      1.00      1.00         4\n",
      "          12       1.00      0.83      0.91        12\n",
      "          13       0.25      0.50      0.33         2\n",
      "          14       1.00      1.00      1.00         2\n",
      "          15       1.00      0.88      0.93         8\n",
      "          16       0.50      1.00      0.67         1\n",
      "          17       1.00      1.00      1.00         4\n",
      "          18       0.75      0.50      0.60         6\n",
      "          19       0.75      0.86      0.80         7\n",
      "          20       0.00      0.00      0.00         0\n",
      "          21       0.00      0.00      0.00         1\n",
      "          22       1.00      0.75      0.86         8\n",
      "          23       1.00      0.83      0.91         6\n",
      "          24       1.00      1.00      1.00         6\n",
      "          25       1.00      0.80      0.89         5\n",
      "          26       1.00      0.86      0.92         7\n",
      "          28       1.00      0.50      0.67         6\n",
      "          29       0.50      0.50      0.50         4\n",
      "          30       1.00      0.33      0.50         3\n",
      "          31       1.00      0.83      0.91         6\n",
      "          32       0.40      1.00      0.57         2\n",
      "          33       1.00      0.67      0.80         3\n",
      "          34       0.67      0.67      0.67         6\n",
      "          35       1.00      1.00      1.00         1\n",
      "          36       1.00      1.00      1.00         7\n",
      "          37       1.00      1.00      1.00         2\n",
      "          38       0.67      0.89      0.76         9\n",
      "          39       1.00      1.00      1.00         3\n",
      "          40       1.00      0.67      0.80         3\n",
      "          41       1.00      1.00      1.00         3\n",
      "          42       0.86      1.00      0.92         6\n",
      "          43       1.00      0.67      0.80         3\n",
      "          44       1.00      0.77      0.87        13\n",
      "          45       0.50      1.00      0.67         1\n",
      "          46       0.75      1.00      0.86         3\n",
      "          47       1.00      0.57      0.73         7\n",
      "          49       0.91      1.00      0.95        10\n",
      "          50       1.00      1.00      1.00         5\n",
      "\n",
      "    accuracy                           0.85       298\n",
      "   macro avg       0.84      0.82      0.81       298\n",
      "weighted avg       0.89      0.85      0.86       298\n",
      "\n",
      "*******************************************************************\n",
      "\n",
      "\n",
      "\u001b[1maccuracy_score of KNeighborsClassifier() is : \u001b[0m\n",
      "0.6778523489932886\n",
      "confusion_matrix :  [[10  0  0 ...  0  0  0]\n",
      " [ 0 11  0 ...  2  0  0]\n",
      " [ 0  0  9 ...  0  0  0]\n",
      " ...\n",
      " [ 0  3  0 ...  3  0  0]\n",
      " [ 0  0  0 ...  0  8  0]\n",
      " [ 0  0  0 ...  0  0  4]]\n",
      "classification_report :                precision    recall  f1-score   support\n",
      "\n",
      "           0       0.62      0.77      0.69        13\n",
      "           1       0.61      0.85      0.71        13\n",
      "           2       0.69      0.69      0.69        13\n",
      "           3       0.75      0.90      0.82        10\n",
      "           4       0.80      1.00      0.89         8\n",
      "           5       0.86      0.67      0.75         9\n",
      "           6       0.89      0.89      0.89        18\n",
      "           7       0.88      0.88      0.88         8\n",
      "           8       0.43      0.43      0.43         7\n",
      "           9       0.47      0.78      0.58         9\n",
      "          10       0.50      0.40      0.44         5\n",
      "          11       0.57      1.00      0.73         4\n",
      "          12       1.00      0.83      0.91        12\n",
      "          13       0.00      0.00      0.00         2\n",
      "          14       1.00      1.00      1.00         2\n",
      "          15       0.62      0.62      0.62         8\n",
      "          16       0.50      1.00      0.67         1\n",
      "          17       0.50      0.75      0.60         4\n",
      "          18       0.00      0.00      0.00         6\n",
      "          19       0.60      0.43      0.50         7\n",
      "          21       0.00      0.00      0.00         1\n",
      "          22       1.00      0.62      0.77         8\n",
      "          23       0.60      0.50      0.55         6\n",
      "          24       1.00      0.83      0.91         6\n",
      "          25       0.50      0.40      0.44         5\n",
      "          26       1.00      1.00      1.00         7\n",
      "          28       1.00      0.50      0.67         6\n",
      "          29       0.00      0.00      0.00         4\n",
      "          30       1.00      0.33      0.50         3\n",
      "          31       0.86      1.00      0.92         6\n",
      "          32       0.67      1.00      0.80         2\n",
      "          33       0.50      0.67      0.57         3\n",
      "          34       0.29      0.33      0.31         6\n",
      "          35       0.00      0.00      0.00         1\n",
      "          36       0.67      0.57      0.62         7\n",
      "          37       0.40      1.00      0.57         2\n",
      "          38       0.57      0.44      0.50         9\n",
      "          39       0.50      0.33      0.40         3\n",
      "          40       1.00      0.33      0.50         3\n",
      "          41       0.67      0.67      0.67         3\n",
      "          42       1.00      1.00      1.00         6\n",
      "          43       1.00      0.33      0.50         3\n",
      "          44       0.73      0.62      0.67        13\n",
      "          45       0.50      1.00      0.67         1\n",
      "          46       0.60      1.00      0.75         3\n",
      "          47       0.60      0.43      0.50         7\n",
      "          49       0.73      0.80      0.76        10\n",
      "          50       1.00      0.80      0.89         5\n",
      "\n",
      "    accuracy                           0.68       298\n",
      "   macro avg       0.64      0.63      0.61       298\n",
      "weighted avg       0.70      0.68      0.67       298\n",
      "\n",
      "*******************************************************************\n",
      "\n",
      "\n",
      "\u001b[1maccuracy_score of GaussianNB() is : \u001b[0m\n",
      "0.8288590604026845\n",
      "confusion_matrix :  [[ 8  0  0 ...  0  0  0]\n",
      " [ 0  3  0 ...  7  0  0]\n",
      " [ 0  0 10 ...  0  0  0]\n",
      " ...\n",
      " [ 0  0  0 ...  4  0  0]\n",
      " [ 0  0  0 ...  0 10  0]\n",
      " [ 0  0  0 ...  0  0  5]]\n",
      "classification_report :                precision    recall  f1-score   support\n",
      "\n",
      "           0       0.89      0.62      0.73        13\n",
      "           1       1.00      0.23      0.38        13\n",
      "           2       1.00      0.77      0.87        13\n",
      "           3       1.00      0.90      0.95        10\n",
      "           4       1.00      0.88      0.93         8\n",
      "           5       0.80      0.89      0.84         9\n",
      "           6       1.00      0.72      0.84        18\n",
      "           7       1.00      0.62      0.77         8\n",
      "           8       0.88      1.00      0.93         7\n",
      "           9       0.90      1.00      0.95         9\n",
      "          10       1.00      1.00      1.00         5\n",
      "          11       0.80      1.00      0.89         4\n",
      "          12       1.00      1.00      1.00        12\n",
      "          13       0.67      1.00      0.80         2\n",
      "          14       1.00      1.00      1.00         2\n",
      "          15       1.00      1.00      1.00         8\n",
      "          16       0.50      1.00      0.67         1\n",
      "          17       1.00      1.00      1.00         4\n",
      "          18       1.00      0.83      0.91         6\n",
      "          19       1.00      0.71      0.83         7\n",
      "          21       0.00      0.00      0.00         1\n",
      "          22       1.00      0.75      0.86         8\n",
      "          23       1.00      1.00      1.00         6\n",
      "          24       1.00      1.00      1.00         6\n",
      "          25       1.00      0.80      0.89         5\n",
      "          26       1.00      1.00      1.00         7\n",
      "          28       0.83      0.83      0.83         6\n",
      "          29       0.33      1.00      0.50         4\n",
      "          30       1.00      1.00      1.00         3\n",
      "          31       1.00      0.83      0.91         6\n",
      "          32       0.40      1.00      0.57         2\n",
      "          33       1.00      0.67      0.80         3\n",
      "          34       0.44      0.67      0.53         6\n",
      "          35       0.25      1.00      0.40         1\n",
      "          36       1.00      1.00      1.00         7\n",
      "          37       1.00      1.00      1.00         2\n",
      "          38       0.62      0.56      0.59         9\n",
      "          39       0.50      0.67      0.57         3\n",
      "          40       1.00      0.67      0.80         3\n",
      "          41       1.00      1.00      1.00         3\n",
      "          42       0.67      1.00      0.80         6\n",
      "          43       1.00      0.67      0.80         3\n",
      "          44       0.93      1.00      0.96        13\n",
      "          45       1.00      1.00      1.00         1\n",
      "          46       0.60      1.00      0.75         3\n",
      "          47       0.36      0.57      0.44         7\n",
      "          49       0.67      1.00      0.80        10\n",
      "          50       1.00      1.00      1.00         5\n",
      "\n",
      "    accuracy                           0.83       298\n",
      "   macro avg       0.83      0.85      0.81       298\n",
      "weighted avg       0.89      0.83      0.83       298\n",
      "\n",
      "*******************************************************************\n",
      "\n",
      "\n"
     ]
    },
    {
     "name": "stdout",
     "output_type": "stream",
     "text": [
      "\u001b[1maccuracy_score of SVC() is : \u001b[0m\n",
      "0.7181208053691275\n",
      "confusion_matrix :  [[11  0  0 ...  0  0  0]\n",
      " [ 0 12  0 ...  1  0  0]\n",
      " [ 0  0  9 ...  0  0  0]\n",
      " ...\n",
      " [ 0  3  0 ...  3  0  0]\n",
      " [ 0  0  0 ...  0  8  0]\n",
      " [ 0  0  0 ...  0  0  4]]\n",
      "classification_report :                precision    recall  f1-score   support\n",
      "\n",
      "           0       0.73      0.85      0.79        13\n",
      "           1       0.67      0.92      0.77        13\n",
      "           2       0.56      0.69      0.62        13\n",
      "           3       0.83      1.00      0.91        10\n",
      "           4       0.80      1.00      0.89         8\n",
      "           5       1.00      0.67      0.80         9\n",
      "           6       0.95      1.00      0.97        18\n",
      "           7       1.00      0.88      0.93         8\n",
      "           8       0.00      0.00      0.00         7\n",
      "           9       0.69      1.00      0.82         9\n",
      "          10       0.00      0.00      0.00         5\n",
      "          11       0.57      1.00      0.73         4\n",
      "          12       1.00      0.92      0.96        12\n",
      "          13       0.12      0.50      0.20         2\n",
      "          14       1.00      1.00      1.00         2\n",
      "          15       0.88      0.88      0.88         8\n",
      "          16       0.50      1.00      0.67         1\n",
      "          17       0.50      0.50      0.50         4\n",
      "          18       0.00      0.00      0.00         6\n",
      "          19       1.00      0.86      0.92         7\n",
      "          21       0.00      0.00      0.00         1\n",
      "          22       1.00      0.75      0.86         8\n",
      "          23       0.00      0.00      0.00         6\n",
      "          24       1.00      0.83      0.91         6\n",
      "          25       1.00      0.40      0.57         5\n",
      "          26       1.00      1.00      1.00         7\n",
      "          28       1.00      0.67      0.80         6\n",
      "          29       0.40      0.50      0.44         4\n",
      "          30       1.00      0.67      0.80         3\n",
      "          31       0.67      1.00      0.80         6\n",
      "          32       1.00      1.00      1.00         2\n",
      "          33       0.50      1.00      0.67         3\n",
      "          34       0.21      0.50      0.30         6\n",
      "          35       0.50      1.00      0.67         1\n",
      "          36       1.00      0.14      0.25         7\n",
      "          37       0.67      1.00      0.80         2\n",
      "          38       0.50      0.33      0.40         9\n",
      "          39       1.00      0.33      0.50         3\n",
      "          40       0.00      0.00      0.00         3\n",
      "          41       1.00      1.00      1.00         3\n",
      "          42       0.75      1.00      0.86         6\n",
      "          43       0.00      0.00      0.00         3\n",
      "          44       0.92      0.92      0.92        13\n",
      "          45       0.20      1.00      0.33         1\n",
      "          46       0.60      1.00      0.75         3\n",
      "          47       0.75      0.43      0.55         7\n",
      "          49       0.89      0.80      0.84        10\n",
      "          50       0.57      0.80      0.67         5\n",
      "\n",
      "    accuracy                           0.72       298\n",
      "   macro avg       0.64      0.68      0.63       298\n",
      "weighted avg       0.72      0.72      0.69       298\n",
      "\n",
      "*******************************************************************\n",
      "\n",
      "\n",
      "\u001b[1maccuracy_score of RandomForestClassifier() is : \u001b[0m\n",
      "0.9328859060402684\n",
      "confusion_matrix :  [[12  0  0 ...  0  0  0]\n",
      " [ 0 13  0 ...  0  0  0]\n",
      " [ 0  0 13 ...  0  0  0]\n",
      " ...\n",
      " [ 0  1  0 ...  4  0  0]\n",
      " [ 0  0  0 ...  0 10  0]\n",
      " [ 0  0  0 ...  0  0  5]]\n",
      "classification_report :                precision    recall  f1-score   support\n",
      "\n",
      "           0       0.92      0.92      0.92        13\n",
      "           1       0.93      1.00      0.96        13\n",
      "           2       1.00      1.00      1.00        13\n",
      "           3       0.91      1.00      0.95        10\n",
      "           4       1.00      1.00      1.00         8\n",
      "           5       1.00      1.00      1.00         9\n",
      "           6       1.00      1.00      1.00        18\n",
      "           7       1.00      1.00      1.00         8\n",
      "           8       1.00      1.00      1.00         7\n",
      "           9       0.90      1.00      0.95         9\n",
      "          10       1.00      1.00      1.00         5\n",
      "          11       0.80      1.00      0.89         4\n",
      "          12       1.00      1.00      1.00        12\n",
      "          13       0.33      1.00      0.50         2\n",
      "          14       1.00      1.00      1.00         2\n",
      "          15       1.00      1.00      1.00         8\n",
      "          16       0.50      1.00      0.67         1\n",
      "          17       1.00      1.00      1.00         4\n",
      "          18       1.00      0.33      0.50         6\n",
      "          19       1.00      1.00      1.00         7\n",
      "          21       0.33      1.00      0.50         1\n",
      "          22       1.00      0.88      0.93         8\n",
      "          23       1.00      0.83      0.91         6\n",
      "          24       1.00      1.00      1.00         6\n",
      "          25       1.00      0.80      0.89         5\n",
      "          26       1.00      1.00      1.00         7\n",
      "          28       1.00      0.83      0.91         6\n",
      "          29       0.50      0.75      0.60         4\n",
      "          30       1.00      1.00      1.00         3\n",
      "          31       1.00      1.00      1.00         6\n",
      "          32       0.67      1.00      0.80         2\n",
      "          33       1.00      0.67      0.80         3\n",
      "          34       0.83      0.83      0.83         6\n",
      "          35       1.00      1.00      1.00         1\n",
      "          36       1.00      1.00      1.00         7\n",
      "          37       1.00      1.00      1.00         2\n",
      "          38       0.89      0.89      0.89         9\n",
      "          39       1.00      0.67      0.80         3\n",
      "          40       1.00      1.00      1.00         3\n",
      "          41       1.00      1.00      1.00         3\n",
      "          42       1.00      1.00      1.00         6\n",
      "          43       1.00      0.67      0.80         3\n",
      "          44       1.00      0.92      0.96        13\n",
      "          45       1.00      1.00      1.00         1\n",
      "          46       0.67      0.67      0.67         3\n",
      "          47       0.80      0.57      0.67         7\n",
      "          49       1.00      1.00      1.00        10\n",
      "          50       1.00      1.00      1.00         5\n",
      "\n",
      "    accuracy                           0.93       298\n",
      "   macro avg       0.92      0.92      0.90       298\n",
      "weighted avg       0.95      0.93      0.93       298\n",
      "\n",
      "*******************************************************************\n",
      "\n",
      "\n",
      "\u001b[1maccuracy_score of AdaBoostClassifier() is : \u001b[0m\n",
      "0.13758389261744966\n",
      "confusion_matrix :  [[13  0  0 ...  0  0  0]\n",
      " [ 0  0  0 ...  0  0  0]\n",
      " [ 0  0  0 ...  0  0  0]\n",
      " ...\n",
      " [ 0  0  0 ...  0  0  0]\n",
      " [ 0  0  0 ...  0  0  0]\n",
      " [ 0  0  0 ...  0  0  0]]\n",
      "classification_report :                precision    recall  f1-score   support\n",
      "\n",
      "           0       0.22      1.00      0.37        13\n",
      "           1       0.00      0.00      0.00        13\n",
      "           2       0.00      0.00      0.00        13\n",
      "           3       0.05      1.00      0.09        10\n",
      "           4       0.00      0.00      0.00         8\n",
      "           5       0.00      0.00      0.00         9\n",
      "           6       0.46      1.00      0.63        18\n",
      "           7       0.00      0.00      0.00         8\n",
      "           8       0.00      0.00      0.00         7\n",
      "           9       0.00      0.00      0.00         9\n",
      "          10       0.00      0.00      0.00         5\n",
      "          11       0.00      0.00      0.00         4\n",
      "          12       0.00      0.00      0.00        12\n",
      "          13       0.00      0.00      0.00         2\n",
      "          14       0.00      0.00      0.00         2\n",
      "          15       0.00      0.00      0.00         8\n",
      "          16       0.00      0.00      0.00         1\n",
      "          17       0.00      0.00      0.00         4\n",
      "          18       0.00      0.00      0.00         6\n",
      "          19       0.00      0.00      0.00         7\n",
      "          21       0.00      0.00      0.00         1\n",
      "          22       0.00      0.00      0.00         8\n",
      "          23       0.00      0.00      0.00         6\n",
      "          24       0.00      0.00      0.00         6\n",
      "          25       0.00      0.00      0.00         5\n",
      "          26       0.00      0.00      0.00         7\n",
      "          28       0.00      0.00      0.00         6\n",
      "          29       0.00      0.00      0.00         4\n",
      "          30       0.00      0.00      0.00         3\n",
      "          31       0.00      0.00      0.00         6\n",
      "          32       0.00      0.00      0.00         2\n",
      "          33       0.00      0.00      0.00         3\n",
      "          34       0.00      0.00      0.00         6\n",
      "          35       0.00      0.00      0.00         1\n",
      "          36       0.00      0.00      0.00         7\n",
      "          37       0.00      0.00      0.00         2\n",
      "          38       0.00      0.00      0.00         9\n",
      "          39       0.00      0.00      0.00         3\n",
      "          40       0.00      0.00      0.00         3\n",
      "          41       0.00      0.00      0.00         3\n",
      "          42       0.00      0.00      0.00         6\n",
      "          43       0.00      0.00      0.00         3\n",
      "          44       0.00      0.00      0.00        13\n",
      "          45       0.00      0.00      0.00         1\n",
      "          46       0.00      0.00      0.00         3\n",
      "          47       0.00      0.00      0.00         7\n",
      "          49       0.00      0.00      0.00        10\n",
      "          50       0.00      0.00      0.00         5\n",
      "\n",
      "    accuracy                           0.14       298\n",
      "   macro avg       0.02      0.06      0.02       298\n",
      "weighted avg       0.04      0.14      0.06       298\n",
      "\n",
      "*******************************************************************\n",
      "\n",
      "\n"
     ]
    },
    {
     "name": "stdout",
     "output_type": "stream",
     "text": [
      "\u001b[1maccuracy_score of GradientBoostingClassifier() is : \u001b[0m\n",
      "0.8590604026845637\n",
      "confusion_matrix :  [[13  0  0 ...  0  0  0]\n",
      " [ 0 13  0 ...  0  0  0]\n",
      " [ 0  0 13 ...  0  0  0]\n",
      " ...\n",
      " [ 0  1  0 ...  4  0  0]\n",
      " [ 0  0  0 ...  0  9  0]\n",
      " [ 0  0  0 ...  0  0  5]]\n",
      "classification_report :                precision    recall  f1-score   support\n",
      "\n",
      "           0       0.87      1.00      0.93        13\n",
      "           1       0.87      1.00      0.93        13\n",
      "           2       0.87      1.00      0.93        13\n",
      "           3       0.91      1.00      0.95        10\n",
      "           4       1.00      1.00      1.00         8\n",
      "           5       1.00      1.00      1.00         9\n",
      "           6       0.94      0.94      0.94        18\n",
      "           7       1.00      1.00      1.00         8\n",
      "           8       1.00      0.71      0.83         7\n",
      "           9       0.82      1.00      0.90         9\n",
      "          10       0.83      1.00      0.91         5\n",
      "          11       0.80      1.00      0.89         4\n",
      "          12       1.00      0.83      0.91        12\n",
      "          13       0.40      1.00      0.57         2\n",
      "          14       0.50      1.00      0.67         2\n",
      "          15       1.00      0.75      0.86         8\n",
      "          16       1.00      1.00      1.00         1\n",
      "          17       1.00      0.75      0.86         4\n",
      "          18       1.00      0.33      0.50         6\n",
      "          19       1.00      1.00      1.00         7\n",
      "          21       0.00      0.00      0.00         1\n",
      "          22       1.00      0.88      0.93         8\n",
      "          23       1.00      0.67      0.80         6\n",
      "          24       1.00      0.50      0.67         6\n",
      "          25       1.00      0.60      0.75         5\n",
      "          26       1.00      1.00      1.00         7\n",
      "          28       1.00      0.83      0.91         6\n",
      "          29       0.43      0.75      0.55         4\n",
      "          30       0.67      0.67      0.67         3\n",
      "          31       0.86      1.00      0.92         6\n",
      "          32       0.67      1.00      0.80         2\n",
      "          33       0.67      0.67      0.67         3\n",
      "          34       0.36      0.67      0.47         6\n",
      "          35       1.00      1.00      1.00         1\n",
      "          36       1.00      1.00      1.00         7\n",
      "          37       1.00      1.00      1.00         2\n",
      "          38       0.78      0.78      0.78         9\n",
      "          39       0.00      0.00      0.00         3\n",
      "          40       1.00      0.67      0.80         3\n",
      "          41       1.00      1.00      1.00         3\n",
      "          42       1.00      0.83      0.91         6\n",
      "          43       0.50      0.33      0.40         3\n",
      "          44       0.80      0.92      0.86        13\n",
      "          45       1.00      1.00      1.00         1\n",
      "          46       1.00      0.67      0.80         3\n",
      "          47       1.00      0.57      0.73         7\n",
      "          49       0.90      0.90      0.90        10\n",
      "          50       1.00      1.00      1.00         5\n",
      "\n",
      "    accuracy                           0.86       298\n",
      "   macro avg       0.84      0.82      0.81       298\n",
      "weighted avg       0.89      0.86      0.86       298\n",
      "\n",
      "*******************************************************************\n",
      "\n",
      "\n",
      "\u001b[1maccuracy_score of BaggingClassifier() is : \u001b[0m\n",
      "0.9026845637583892\n",
      "confusion_matrix :  [[11  0  0 ...  0  0  0]\n",
      " [ 0 13  0 ...  0  0  0]\n",
      " [ 0  0 13 ...  0  0  0]\n",
      " ...\n",
      " [ 0  1  0 ...  4  0  0]\n",
      " [ 0  0  0 ...  0 10  0]\n",
      " [ 0  0  0 ...  0  0  5]]\n",
      "classification_report :                precision    recall  f1-score   support\n",
      "\n",
      "           0       0.92      0.85      0.88        13\n",
      "           1       0.93      1.00      0.96        13\n",
      "           2       1.00      1.00      1.00        13\n",
      "           3       0.77      1.00      0.87        10\n",
      "           4       0.80      1.00      0.89         8\n",
      "           5       0.90      1.00      0.95         9\n",
      "           6       1.00      0.94      0.97        18\n",
      "           7       1.00      1.00      1.00         8\n",
      "           8       1.00      1.00      1.00         7\n",
      "           9       0.90      1.00      0.95         9\n",
      "          10       1.00      1.00      1.00         5\n",
      "          11       0.80      1.00      0.89         4\n",
      "          12       1.00      1.00      1.00        12\n",
      "          13       0.20      0.50      0.29         2\n",
      "          14       1.00      1.00      1.00         2\n",
      "          15       1.00      1.00      1.00         8\n",
      "          16       0.50      1.00      0.67         1\n",
      "          17       1.00      1.00      1.00         4\n",
      "          18       0.67      0.33      0.44         6\n",
      "          19       1.00      1.00      1.00         7\n",
      "          21       1.00      1.00      1.00         1\n",
      "          22       1.00      1.00      1.00         8\n",
      "          23       1.00      0.83      0.91         6\n",
      "          24       1.00      1.00      1.00         6\n",
      "          25       1.00      0.80      0.89         5\n",
      "          26       0.88      1.00      0.93         7\n",
      "          28       1.00      0.50      0.67         6\n",
      "          29       0.50      0.75      0.60         4\n",
      "          30       1.00      0.67      0.80         3\n",
      "          31       1.00      1.00      1.00         6\n",
      "          32       1.00      1.00      1.00         2\n",
      "          33       1.00      0.67      0.80         3\n",
      "          34       0.57      0.67      0.62         6\n",
      "          35       1.00      1.00      1.00         1\n",
      "          36       1.00      1.00      1.00         7\n",
      "          37       1.00      1.00      1.00         2\n",
      "          38       0.75      0.67      0.71         9\n",
      "          39       1.00      0.67      0.80         3\n",
      "          40       1.00      1.00      1.00         3\n",
      "          41       1.00      1.00      1.00         3\n",
      "          42       1.00      1.00      1.00         6\n",
      "          43       0.75      1.00      0.86         3\n",
      "          44       1.00      0.77      0.87        13\n",
      "          45       1.00      1.00      1.00         1\n",
      "          46       0.67      0.67      0.67         3\n",
      "          47       0.80      0.57      0.67         7\n",
      "          49       0.91      1.00      0.95        10\n",
      "          50       1.00      1.00      1.00         5\n",
      "\n",
      "    accuracy                           0.90       298\n",
      "   macro avg       0.90      0.89      0.89       298\n",
      "weighted avg       0.92      0.90      0.90       298\n",
      "\n",
      "*******************************************************************\n",
      "\n",
      "\n",
      "\u001b[1maccuracy_score of ExtraTreesClassifier() is : \u001b[0m\n",
      "0.9463087248322147\n",
      "confusion_matrix :  [[12  0  0 ...  0  0  0]\n",
      " [ 0 13  0 ...  0  0  0]\n",
      " [ 0  0 13 ...  0  0  0]\n",
      " ...\n",
      " [ 0  0  0 ...  4  0  0]\n",
      " [ 0  0  0 ...  0 10  0]\n",
      " [ 0  0  0 ...  0  0  5]]\n",
      "classification_report :                precision    recall  f1-score   support\n",
      "\n",
      "           0       1.00      0.92      0.96        13\n",
      "           1       1.00      1.00      1.00        13\n",
      "           2       1.00      1.00      1.00        13\n",
      "           3       1.00      1.00      1.00        10\n",
      "           4       1.00      1.00      1.00         8\n",
      "           5       1.00      1.00      1.00         9\n",
      "           6       1.00      1.00      1.00        18\n",
      "           7       1.00      1.00      1.00         8\n",
      "           8       1.00      1.00      1.00         7\n",
      "           9       0.82      1.00      0.90         9\n",
      "          10       1.00      1.00      1.00         5\n",
      "          11       0.80      1.00      0.89         4\n",
      "          12       1.00      0.92      0.96        12\n",
      "          13       0.50      1.00      0.67         2\n",
      "          14       1.00      1.00      1.00         2\n",
      "          15       1.00      1.00      1.00         8\n",
      "          16       0.50      1.00      0.67         1\n",
      "          17       1.00      1.00      1.00         4\n",
      "          18       1.00      0.67      0.80         6\n",
      "          19       1.00      1.00      1.00         7\n",
      "          21       0.50      1.00      0.67         1\n",
      "          22       1.00      1.00      1.00         8\n",
      "          23       1.00      0.83      0.91         6\n",
      "          24       1.00      1.00      1.00         6\n",
      "          25       1.00      0.80      0.89         5\n",
      "          26       1.00      1.00      1.00         7\n",
      "          28       1.00      0.83      0.91         6\n",
      "          29       0.43      0.75      0.55         4\n",
      "          30       1.00      1.00      1.00         3\n",
      "          31       1.00      1.00      1.00         6\n",
      "          32       1.00      1.00      1.00         2\n",
      "          33       1.00      0.67      0.80         3\n",
      "          34       0.83      0.83      0.83         6\n",
      "          35       1.00      1.00      1.00         1\n",
      "          36       1.00      1.00      1.00         7\n",
      "          37       1.00      1.00      1.00         2\n",
      "          38       0.89      0.89      0.89         9\n",
      "          39       0.67      0.67      0.67         3\n",
      "          40       1.00      1.00      1.00         3\n",
      "          41       1.00      1.00      1.00         3\n",
      "          42       1.00      1.00      1.00         6\n",
      "          43       1.00      0.67      0.80         3\n",
      "          44       1.00      1.00      1.00        13\n",
      "          45       1.00      1.00      1.00         1\n",
      "          46       0.75      1.00      0.86         3\n",
      "          47       0.80      0.57      0.67         7\n",
      "          49       1.00      1.00      1.00        10\n",
      "          50       1.00      1.00      1.00         5\n",
      "\n",
      "    accuracy                           0.95       298\n",
      "   macro avg       0.93      0.94      0.92       298\n",
      "weighted avg       0.96      0.95      0.95       298\n",
      "\n",
      "*******************************************************************\n",
      "\n",
      "\n"
     ]
    }
   ],
   "source": [
    "model=[LogisticRegression(),DecisionTreeClassifier(),KNeighborsClassifier(),GaussianNB(),SVC(),RandomForestClassifier(),AdaBoostClassifier(),GradientBoostingClassifier(),BaggingClassifier(),ExtraTreesClassifier()]\n",
    "\n",
    "for m in model:\n",
    "    m.fit(X_train,Y_train)\n",
    "    m.score(X_train,Y_train)\n",
    "    predm=m.predict(X_test)\n",
    "    pred_train=m.predict(X_train)\n",
    "    pred_test=m.predict(X_test)\n",
    "    print(\"\\033[1m\"+ 'accuracy_score of',m,'is : ' + \"\\033[0m\" )  # Make the line bold\n",
    "    print(accuracy_score(Y_test,predm))\n",
    "    print(\"confusion_matrix : \",confusion_matrix(Y_test,predm))\n",
    "    print(\"classification_report : \",classification_report(Y_test,predm))\n",
    "    print('*******************************************************************')\n",
    "    print('\\n')"
   ]
  },
  {
   "cell_type": "markdown",
   "metadata": {},
   "source": [
    "By using ExtraTreesClassifier() we are getting best accuracy which is 0.9496644295302014"
   ]
  },
  {
   "cell_type": "markdown",
   "metadata": {},
   "source": [
    "# Cross validate all algorithm by using loop"
   ]
  },
  {
   "cell_type": "code",
   "execution_count": 108,
   "metadata": {},
   "outputs": [
    {
     "name": "stdout",
     "output_type": "stream",
     "text": [
      "Model :  LogisticRegression()\n",
      "Mean Score :  0.7692318157083258\n",
      "Standard deviation :  0.10165883600693601\n",
      "*******************************************************************\n",
      "\n",
      "\n",
      "Model :  DecisionTreeClassifier()\n",
      "Mean Score :  0.8492971159078542\n",
      "Standard deviation :  0.03746996223986846\n",
      "*******************************************************************\n",
      "\n",
      "\n",
      "Model :  KNeighborsClassifier()\n",
      "Mean Score :  0.6583529838563396\n",
      "Standard deviation :  0.05898495963767867\n",
      "*******************************************************************\n",
      "\n",
      "\n",
      "Model :  GaussianNB()\n",
      "Mean Score :  0.7990431706874659\n",
      "Standard deviation :  0.07939477064919875\n",
      "*******************************************************************\n",
      "\n",
      "\n",
      "Model :  SVC()\n",
      "Mean Score :  0.7672093234173771\n",
      "Standard deviation :  0.08098014383522156\n",
      "*******************************************************************\n",
      "\n",
      "\n",
      "Model :  RandomForestClassifier()\n",
      "Mean Score :  0.92668692182115\n",
      "Standard deviation :  0.019387426582665106\n",
      "*******************************************************************\n",
      "\n",
      "\n",
      "Model :  AdaBoostClassifier()\n",
      "Mean Score :  0.09076727734445855\n",
      "Standard deviation :  0.01695000637017875\n",
      "*******************************************************************\n",
      "\n",
      "\n",
      "Model :  GradientBoostingClassifier()\n",
      "Mean Score :  0.8318383820061672\n",
      "Standard deviation :  0.052429237351057624\n",
      "*******************************************************************\n",
      "\n",
      "\n",
      "Model :  BaggingClassifier()\n",
      "Mean Score :  0.8789134772356249\n",
      "Standard deviation :  0.025214900754514356\n",
      "*******************************************************************\n",
      "\n",
      "\n",
      "Model :  ExtraTreesClassifier()\n",
      "Mean Score :  0.9266551786686014\n",
      "Standard deviation :  0.029978215212384213\n",
      "*******************************************************************\n",
      "\n",
      "\n"
     ]
    }
   ],
   "source": [
    "model=[LogisticRegression(),DecisionTreeClassifier(),KNeighborsClassifier(),GaussianNB(),SVC(),RandomForestClassifier(),AdaBoostClassifier(),GradientBoostingClassifier(),BaggingClassifier(),ExtraTreesClassifier()]\n",
    "for m in model:\n",
    "    score=cross_val_score(m,X,Y,cv=10,scoring='accuracy')\n",
    "    print(\"Model : \",m)\n",
    "    print(\"Mean Score : \",score.mean())\n",
    "    print(\"Standard deviation : \",score.std())\n",
    "    print('*******************************************************************')\n",
    "    print('\\n')"
   ]
  },
  {
   "cell_type": "markdown",
   "metadata": {},
   "source": [
    "# Using GridSearchCV to find the best parameter"
   ]
  },
  {
   "cell_type": "markdown",
   "metadata": {},
   "source": [
    "# ExtraTreesClassifier()"
   ]
  },
  {
   "cell_type": "code",
   "execution_count": 109,
   "metadata": {},
   "outputs": [
    {
     "name": "stdout",
     "output_type": "stream",
     "text": [
      "{'n_estimators': 200, 'random_state': 54}\n"
     ]
    }
   ],
   "source": [
    "parameters={'random_state':range(42,56),'n_estimators':[100,200,300]}\n",
    "ETC=ExtraTreesClassifier()\n",
    "\n",
    "clf=GridSearchCV(ETC,parameters)\n",
    "clf.fit(X,Y)\n",
    "print(clf.best_params_)"
   ]
  },
  {
   "cell_type": "markdown",
   "metadata": {},
   "source": [
    "# RandomForestClassifier()"
   ]
  },
  {
   "cell_type": "code",
   "execution_count": null,
   "metadata": {},
   "outputs": [],
   "source": [
    "parameters={'random_state':range(42,56),'n_estimators':[100,200,300]}\n",
    "RFC=RandomForestClassifier()\n",
    "\n",
    "clf=GridSearchCV(RFC,parameters)\n",
    "clf.fit(X,Y)\n",
    "print(clf.best_params_)"
   ]
  },
  {
   "cell_type": "markdown",
   "metadata": {},
   "source": [
    "# Applying the result in models"
   ]
  },
  {
   "cell_type": "code",
   "execution_count": null,
   "metadata": {},
   "outputs": [],
   "source": [
    "ETC=ExtraTreesClassifier(n_estimators=200,random_state=54)\n",
    "RFC=RandomForestClassifier(n_estimators=200,random_state=51)"
   ]
  },
  {
   "cell_type": "code",
   "execution_count": null,
   "metadata": {},
   "outputs": [],
   "source": [
    "models=[]\n",
    "models.append(('RandomForestClassifier',RFC))\n",
    "models.append(('ExtraTreesClassifier',ETC))"
   ]
  },
  {
   "cell_type": "code",
   "execution_count": null,
   "metadata": {},
   "outputs": [],
   "source": [
    "from itertools import cycle\n",
    "\n",
    "from sklearn import svm, datasets\n",
    "from sklearn.metrics import roc_curve, auc\n",
    "from sklearn.model_selection import train_test_split\n",
    "from sklearn.preprocessing import label_binarize\n",
    "from sklearn.multiclass import OneVsRestClassifier\n",
    "from scipy import interp\n",
    "from sklearn.metrics import roc_auc_score\n",
    "\n",
    "\n",
    "Model=[]\n",
    "score=[]\n",
    "CVS=[]\n",
    "ROC_Score=[]\n",
    "\n",
    "for name,model in models:\n",
    "    print('*******************************',name,'*******************************')\n",
    "    print('\\n')\n",
    "    Model.append(name)\n",
    "    \n",
    "    model.fit(X_train,Y_train)\n",
    "    print(model)\n",
    "    pred=model.predict(X_test)\n",
    "    print('\\n')\n",
    "    \n",
    "    #Accuracy Score\n",
    "    AS=accuracy_score(Y_test,pred)\n",
    "    print('Accuracy Score :',AS)\n",
    "    score.append(AS*100)\n",
    "    print('\\n')\n",
    "    \n",
    "    \n",
    "    #Cross Val Score\n",
    "    cross_val=cross_val_score(model,X,Y,cv=15,scoring='accuracy').mean()\n",
    "    print(\"Cross Val Score : \",cross_val)\n",
    "    CVS.append(cross_val*100)\n",
    "    print('\\n')\n",
    "    \n",
    "    #ROC_AUC_SCORE\n",
    "    false_positive_rate,true_positive_rate,threshold=roc_curve(Y_test,pred)\n",
    "    roc_auc=auc(false_positive_rate,true_positive_rate)\n",
    "    #print(\"ROC_AUC_SCORE : \",roc_auc)\n",
    "    #ROC_Score.append(roc_auc*100)\n",
    "    #print(\"\\n\")\n",
    "    \n",
    "    #confusion matrix\n",
    "    cm=confusion_matrix(Y_test,pred)\n",
    "    print(cm)\n",
    "    print('\\n')\n",
    "    \n",
    "    #Classification Report\n",
    "    print(\"Classification_report \\n\",classification_report(Y_test,pred))\n",
    "    print('\\n')\n",
    "    \n",
    "    \n",
    "    #Confusion matrix via heatmap\n",
    "    plt.figure(figsize=(10,40))\n",
    "    plt.subplot(911)\n",
    "    plt.title(name)\n",
    "    print(sns.heatmap(cm,annot=True,cbar=False,cmap='magma'))\n",
    "    plt.subplot(912)\n",
    "    plt.title(name)\n",
    "    \n",
    "    #ROC_Curve\n",
    "    plt.plot(false_positive_rate,true_positive_rate,label='AUC=%.2f'%roc_auc)\n",
    "    plt.plot([0,1],[0,1],'r--')\n",
    "    plt.legend(loc='lower right')\n",
    "    plt.ylabel('True Positive rate')\n",
    "    plt.xlabel('False Positive Rate')\n",
    "    print('\\n')"
   ]
  },
  {
   "cell_type": "code",
   "execution_count": null,
   "metadata": {},
   "outputs": [],
   "source": []
  },
  {
   "cell_type": "code",
   "execution_count": null,
   "metadata": {},
   "outputs": [],
   "source": []
  },
  {
   "cell_type": "code",
   "execution_count": null,
   "metadata": {},
   "outputs": [],
   "source": []
  },
  {
   "cell_type": "code",
   "execution_count": null,
   "metadata": {},
   "outputs": [],
   "source": []
  },
  {
   "cell_type": "code",
   "execution_count": null,
   "metadata": {},
   "outputs": [],
   "source": []
  },
  {
   "cell_type": "code",
   "execution_count": null,
   "metadata": {},
   "outputs": [],
   "source": []
  }
 ],
 "metadata": {
  "kernelspec": {
   "display_name": "Python 3",
   "language": "python",
   "name": "python3"
  },
  "language_info": {
   "codemirror_mode": {
    "name": "ipython",
    "version": 3
   },
   "file_extension": ".py",
   "mimetype": "text/x-python",
   "name": "python",
   "nbconvert_exporter": "python",
   "pygments_lexer": "ipython3",
   "version": "3.8.5"
  }
 },
 "nbformat": 4,
 "nbformat_minor": 4
}
